{
 "cells": [
  {
   "cell_type": "code",
   "execution_count": 1,
   "metadata": {},
   "outputs": [],
   "source": [
    "# http://danshiebler.com/2018-11-10-category-solutions/"
   ]
  },
  {
   "cell_type": "markdown",
   "metadata": {},
   "source": [
    "# Section 1"
   ]
  },
  {
   "cell_type": "markdown",
   "metadata": {},
   "source": [
    "1. Implement, as best as you can, the identity function in your favorite language (or the second favorite, if your favorite language happens to be Haskell)."
   ]
  },
  {
   "cell_type": "code",
   "execution_count": 2,
   "metadata": {},
   "outputs": [],
   "source": [
    "def identity(x):\n",
    "    return x"
   ]
  },
  {
   "cell_type": "markdown",
   "metadata": {},
   "source": [
    "\n",
    "2. Implement the composition function in your favorite language. It takes two functions as arguments and returns a function that is their composition.\n",
    "\n"
   ]
  },
  {
   "cell_type": "code",
   "execution_count": 3,
   "metadata": {},
   "outputs": [],
   "source": [
    "def compose(f, g):\n",
    "    return lambda x: g(f(x))"
   ]
  },
  {
   "cell_type": "markdown",
   "metadata": {},
   "source": [
    "3. Write a program that tries to test that your composition function respects identity."
   ]
  },
  {
   "cell_type": "code",
   "execution_count": 4,
   "metadata": {},
   "outputs": [],
   "source": [
    "assert(compose(lambda x: x + 5, identity)(5) == 10)\n",
    "assert(compose(identity, lambda x: x + 5)(5) == 10)"
   ]
  },
  {
   "cell_type": "markdown",
   "metadata": {},
   "source": [
    "# Section 2"
   ]
  },
  {
   "cell_type": "markdown",
   "metadata": {},
   "source": [
    "1. Define a higher-order function (or a function object) memoize in your favorite language.  \n",
    "\n",
    "This function **takes a pure function f as an argument** and **returns a function** that behaves almost exactly like f, except that **it only calls the original function once for every argument**, **stores the result internally**, and subsequently returns this stored result every time it’s called with the same argument. You can tell the memoized function from the original by watching its performance. For instance, try to memoize a function that takes a long time to evaluate. You’ll have to wait for the result the first time you call it, but on subsequent calls, with the same argument, you should get the result immediately.\n",
    "\n"
   ]
  },
  {
   "cell_type": "code",
   "execution_count": 5,
   "metadata": {},
   "outputs": [],
   "source": [
    "def memoize(func):\n",
    "    # calls dict{argument: result}\n",
    "    calls = {}\n",
    "\n",
    "    def wrapper(arg):\n",
    "        if arg not in calls:\n",
    "            result = func(arg)\n",
    "            calls[arg] = result\n",
    "            return result\n",
    "        else:\n",
    "            return calls[arg]\n",
    "    return wrapper"
   ]
  },
  {
   "cell_type": "code",
   "execution_count": 6,
   "metadata": {},
   "outputs": [],
   "source": [
    "# simpler http://danshiebler.com/2018-11-10-category-solutions/\n",
    "\n",
    "\n",
    "def memoize(f):\n",
    "    calls = {}\n",
    "\n",
    "    def memoized(x):\n",
    "        if x not in calls:\n",
    "            calls[x] = f(x)\n",
    "        return calls[x]\n",
    "\n",
    "    return memoized"
   ]
  },
  {
   "cell_type": "markdown",
   "metadata": {},
   "source": [
    "2. Try to memoize a function from your standard library that you normally use to produce random numbers. Does it work?\n",
    "\n"
   ]
  },
  {
   "cell_type": "markdown",
   "metadata": {},
   "source": [
    "**No** because it produces random numbers so there is no point in memoizing."
   ]
  },
  {
   "cell_type": "markdown",
   "metadata": {},
   "source": [
    "3. Most random number generators can be initialized with a seed. Implement a function that **takes a seed, calls the random number generator with that seed, and returns the result**. **Memoize that function**. Does it work?\n",
    "\n"
   ]
  },
  {
   "cell_type": "code",
   "execution_count": 7,
   "metadata": {},
   "outputs": [
    {
     "data": {
      "text/plain": [
       "0.7271677490960766"
      ]
     },
     "execution_count": 7,
     "metadata": {},
     "output_type": "execute_result"
    }
   ],
   "source": [
    "import numpy as np\n",
    "np.random.random()"
   ]
  },
  {
   "cell_type": "code",
   "execution_count": 8,
   "metadata": {},
   "outputs": [],
   "source": [
    "import numpy as np\n",
    "from typing import Union\n",
    "\n",
    "\n",
    "def seed2rand(seed: int) -> Union[int, float]:\n",
    "    np.random.seed(seed)\n",
    "    return np.random.random()\n",
    "    "
   ]
  },
  {
   "cell_type": "code",
   "execution_count": 9,
   "metadata": {},
   "outputs": [
    {
     "data": {
      "text/plain": [
       "0.8588892672930397"
      ]
     },
     "execution_count": 9,
     "metadata": {},
     "output_type": "execute_result"
    }
   ],
   "source": [
    "seed2rand(32)"
   ]
  },
  {
   "cell_type": "code",
   "execution_count": 10,
   "metadata": {},
   "outputs": [
    {
     "data": {
      "text/plain": [
       "0.8588892672930397"
      ]
     },
     "execution_count": 10,
     "metadata": {},
     "output_type": "execute_result"
    }
   ],
   "source": [
    "memoize(seed2rand)(32)"
   ]
  },
  {
   "cell_type": "code",
   "execution_count": 11,
   "metadata": {},
   "outputs": [],
   "source": [
    "memoized_random = memoize(seed2rand)\n",
    "assert(np.isclose(memoized_random(0), memoized_random(0)))\n",
    "assert(memoized_random(0) != memoized_random(1))"
   ]
  },
  {
   "cell_type": "code",
   "execution_count": 12,
   "metadata": {},
   "outputs": [
    {
     "data": {
      "text/plain": [
       "0.1915194503788923"
      ]
     },
     "execution_count": 12,
     "metadata": {},
     "output_type": "execute_result"
    }
   ],
   "source": [
    "memoized_random = memoize(seed2rand)\n",
    "memoized_random(1234)"
   ]
  },
  {
   "cell_type": "code",
   "execution_count": 13,
   "metadata": {},
   "outputs": [
    {
     "name": "stdout",
     "output_type": "stream",
     "text": [
      "CPU times: user 5 µs, sys: 1 µs, total: 6 µs\n",
      "Wall time: 7.87 µs\n"
     ]
    },
    {
     "data": {
      "text/plain": [
       "0.1915194503788923"
      ]
     },
     "execution_count": 13,
     "metadata": {},
     "output_type": "execute_result"
    }
   ],
   "source": [
    "%%time\n",
    "memoized_random(1234)"
   ]
  },
  {
   "cell_type": "code",
   "execution_count": 14,
   "metadata": {},
   "outputs": [
    {
     "name": "stdout",
     "output_type": "stream",
     "text": [
      "CPU times: user 71 µs, sys: 23 µs, total: 94 µs\n",
      "Wall time: 97 µs\n"
     ]
    },
    {
     "data": {
      "text/plain": [
       "0.296289883299217"
      ]
     },
     "execution_count": 14,
     "metadata": {},
     "output_type": "execute_result"
    }
   ],
   "source": [
    "%%time\n",
    "memoized_random(1248)"
   ]
  },
  {
   "cell_type": "markdown",
   "metadata": {},
   "source": [
    "4. Which of these C++ functions are pure? Try to memoize them and observe what happens when you call them multiple times: memoized and not.\n",
    "\n",
    "\n",
    "(a) The factorial function from the example in the text.\n",
    "\n",
    "(b)\n",
    "```cpp\n",
    "std::getchar()\n",
    "```\n",
    "\n",
    "(c)\n",
    "```cpp\n",
    "bool f() {\n",
    "\n",
    "std::cout << \"Hello!\" << std::endl; return true;\n",
    "\n",
    "}\n",
    "```\n",
    "(d)\n",
    "```cpp\n",
    "int f(int x) {\n",
    "\n",
    "static int y = 0;\n",
    "\n",
    "26 y += x;\n",
    "\n",
    "return y;\n",
    "\n",
    "}\n",
    "```"
   ]
  },
  {
   "cell_type": "markdown",
   "metadata": {},
   "source": [
    "a) `factorial` is a pure function\n",
    "\n",
    "b) `getchar` is not a pure function, since it relies on the state of `stdin`\n",
    "\n",
    "c) `f` is not a pure function, since it has the side effect of printing\n",
    "\n",
    "d) `f` is not a pure function, since it both has the side effect of incrementing `y` and relies on the state of static variable `y`"
   ]
  },
  {
   "cell_type": "markdown",
   "metadata": {},
   "source": [
    "5. How many different functions are there from Bool to Bool? Can you implement them all?\n",
    "\n"
   ]
  },
  {
   "cell_type": "code",
   "execution_count": 19,
   "metadata": {},
   "outputs": [],
   "source": [
    "def same(b: bool) -> bool:\n",
    "    return b\n",
    "\n",
    "def opposite(b: bool) -> bool:\n",
    "    return not b\n",
    "\n",
    "def alwaystrue(b: bool) -> bool:\n",
    "    return True\n",
    "    \n",
    "def alwaysfalse(b: bool) -> bool:\n",
    "    return False\n"
   ]
  },
  {
   "cell_type": "code",
   "execution_count": 23,
   "metadata": {},
   "outputs": [
    {
     "name": "stdout",
     "output_type": "stream",
     "text": [
      "True\n",
      "False\n",
      "True\n",
      "False\n",
      "True\n",
      "False\n"
     ]
    }
   ],
   "source": [
    "print(same(True))\n",
    "print(same(False))\n",
    "print(opposite(False))\n",
    "print(opposite(True))\n",
    "print(alwaystrue(True))\n",
    "print(alwaysfalse(True))"
   ]
  },
  {
   "cell_type": "markdown",
   "metadata": {},
   "source": [
    "6. Draw a picture of a category whose only objects are the types Void, () (unit), and Bool; with arrows corresponding to all possible functions between these types. Label the arrows with the names of the functions."
   ]
  },
  {
   "cell_type": "code",
   "execution_count": 18,
   "metadata": {},
   "outputs": [
    {
     "data": {
      "text/plain": [
       "bool"
      ]
     },
     "execution_count": 18,
     "metadata": {},
     "output_type": "execute_result"
    }
   ],
   "source": [
    "type(False)"
   ]
  },
  {
   "cell_type": "code",
   "execution_count": null,
   "metadata": {},
   "outputs": [],
   "source": []
  }
 ],
 "metadata": {
  "kernelspec": {
   "display_name": "Python 3",
   "language": "python",
   "name": "python3"
  },
  "language_info": {
   "codemirror_mode": {
    "name": "ipython",
    "version": 3
   },
   "file_extension": ".py",
   "mimetype": "text/x-python",
   "name": "python",
   "nbconvert_exporter": "python",
   "pygments_lexer": "ipython3",
   "version": "3.7.3"
  }
 },
 "nbformat": 4,
 "nbformat_minor": 4
}
