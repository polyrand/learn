{
 "cells": [
  {
   "cell_type": "markdown",
   "metadata": {},
   "source": [
    "Write a function that takes porker hands and returns the best hand.\n",
    "\n",
    "Ranking rules: https://en.wikipedia.org/wiki/List_of_poker_hands#Hand-ranking_categories"
   ]
  },
  {
   "cell_type": "code",
   "execution_count": 1,
   "metadata": {},
   "outputs": [],
   "source": [
    "# from enum import Enum, auto\n",
    "\n",
    "# class HandName(Enum):\n",
    "#     five_of_kind = auto()\n",
    "#     straight_flush = auto()\n",
    "#     four_of_kind = auto()\n",
    "#     full_house = auto()\n",
    "#     flush = auto()\n",
    "#     straight = auto()\n",
    "#     three_of_kind = auto()\n",
    "#     two_pair = auto()\n",
    "#     one_pair = auto()\n",
    "#     high_card = auto()"
   ]
  },
  {
   "cell_type": "markdown",
   "metadata": {},
   "source": [
    "**Representing cards**\n",
    "\n",
    "It's better to do it by using a list of tuples `[(\"J\", \"S\"), (\"A\", \"D\")]` or a list `[\"JS\", \"AD\"...]`. If we have *wildcards* or duplicate decks, a set will not work.\n",
    "\n",
    "I think the best one would be like:\n",
    "\n",
    "`[(\"11\", \"S\"), (\"1\", \"D\"), ...]`"
   ]
  },
  {
   "cell_type": "code",
   "execution_count": 2,
   "metadata": {},
   "outputs": [],
   "source": [
    "sf = \"6C 7C 8C 9C TC\".split() # Straight Flush\n",
    "fk = \"9D 9H 9S 9C 7D\".split() # Four of a Kind\n",
    "fh = \"TD TC TH 7C 7D\".split() # Full House\n",
    "tp = \"5S 5D 9H 9C 6S\".split() # Two pairs"
   ]
  },
  {
   "cell_type": "code",
   "execution_count": 3,
   "metadata": {},
   "outputs": [],
   "source": [
    "def poker(hands):\n",
    "    \"Return the best hand: poker([hand,...]) => hand\"\n",
    "    return max(hands, key=hand_rank)\n",
    "\n",
    "\n",
    "def hand_rank(hand):\n",
    "    \"\"\"Return a value indicating the ranking of a hand.\"\"\"\n",
    "    ranks = card_ranks(hand)\n",
    "    if straight(ranks) and flush(hand):\n",
    "        return (8, max(ranks))\n",
    "    elif kind(4, ranks):\n",
    "        return (7, kind(4, ranks), kind(1, ranks))\n",
    "    elif kind(3, ranks) and kind(2, ranks):\n",
    "        return (6, kind(3, ranks), kind(2, ranks))\n",
    "    elif flush(hand):\n",
    "        return (5, ranks)\n",
    "    elif straight(ranks):\n",
    "        return (4, max(ranks))\n",
    "    elif kind(3, ranks):\n",
    "        return (3, kind(3, ranks), ranks)\n",
    "    elif two_pair(ranks):\n",
    "        return (2, two_pair(ranks), ranks)\n",
    "    elif kind(2, ranks):\n",
    "        return (1, kind(2, ranks), ranks)\n",
    "    else:\n",
    "        return (0, ranks)"
   ]
  },
  {
   "cell_type": "code",
   "execution_count": 4,
   "metadata": {},
   "outputs": [],
   "source": [
    "def card_ranks(hand):\n",
    "    \"Return a list of the ranks, sorted with higher first.\"\n",
    "    ranks = [\"--23456789TJQKA\".index(r) for r, s in hand]\n",
    "    ranks.sort(reverse=True)\n",
    "    return ranks"
   ]
  },
  {
   "cell_type": "code",
   "execution_count": 5,
   "metadata": {},
   "outputs": [],
   "source": [
    "def flush(hand):\n",
    "    \"Return True if all the cards have the same suit.\"\n",
    "    suits = [e[-1] for e in hand]\n",
    "    for s in suits[1:]:\n",
    "        if suits[0] != s:\n",
    "            return False\n",
    "    return True"
   ]
  },
  {
   "cell_type": "markdown",
   "metadata": {},
   "source": [
    "Peter"
   ]
  },
  {
   "cell_type": "code",
   "execution_count": 6,
   "metadata": {},
   "outputs": [],
   "source": [
    "def flush(hand):\n",
    "    \"Return True if all the cards have the same suit.\"\n",
    "    suits = [s for r,s in hand]\n",
    "    return len(set(suits)) == 1"
   ]
  },
  {
   "cell_type": "code",
   "execution_count": 7,
   "metadata": {},
   "outputs": [
    {
     "data": {
      "text/plain": [
       "True"
      ]
     },
     "execution_count": 7,
     "metadata": {},
     "output_type": "execute_result"
    }
   ],
   "source": [
    "flush(\"6C 7C 8C 9C TC\".split())"
   ]
  },
  {
   "cell_type": "code",
   "execution_count": 8,
   "metadata": {},
   "outputs": [],
   "source": [
    "def straight(ranks):\n",
    "    \"Return True if the ordered ranks form a 5-card straight.\"\n",
    "    ranks = sorted(ranks, reverse=True)\n",
    "    return all([ranks[i] == ranks[i + 1] + 1 for i in range(len(ranks) - 1)])\n",
    "    # Your code here."
   ]
  },
  {
   "cell_type": "markdown",
   "metadata": {},
   "source": [
    "Peter implementation:"
   ]
  },
  {
   "cell_type": "code",
   "execution_count": 9,
   "metadata": {},
   "outputs": [],
   "source": [
    "def straight(ranks):\n",
    "    \"Return True if the ordered ranks form a 5-card straight.\"\n",
    "    return (max(ranks) - min(ranks) == 4) and len(set(ranks)) == 5"
   ]
  },
  {
   "cell_type": "code",
   "execution_count": 10,
   "metadata": {},
   "outputs": [],
   "source": [
    "assert straight([9, 8, 7, 6, 5]) == True"
   ]
  },
  {
   "cell_type": "code",
   "execution_count": 11,
   "metadata": {},
   "outputs": [],
   "source": [
    "assert straight([9, 8, 8, 6, 5]) == False"
   ]
  },
  {
   "cell_type": "code",
   "execution_count": 12,
   "metadata": {},
   "outputs": [],
   "source": [
    "from collections import Counter\n",
    "\n",
    "\n",
    "def kind(n, ranks):\n",
    "    \"\"\"Return the first rank that this hand has exactly n of.\n",
    "    Return None if there is no n-of-a-kind in the hand.\"\"\"\n",
    "    \n",
    "    for k, v in Counter(ranks).items():\n",
    "\n",
    "        if v == n:\n",
    "            return k\n",
    "        \n",
    "    return None"
   ]
  },
  {
   "cell_type": "markdown",
   "metadata": {},
   "source": [
    "Peter"
   ]
  },
  {
   "cell_type": "code",
   "execution_count": 13,
   "metadata": {},
   "outputs": [],
   "source": [
    "def kind(n, ranks):\n",
    "    \"\"\"Return the first rank that this hand has exactly n of.\n",
    "    Return None if there is no n-of-a-kind in the hand.\"\"\"\n",
    "    \n",
    "    for r in ranks:\n",
    "        if ranks.count(r) == n:\n",
    "            return r\n",
    "    return None\n"
   ]
  },
  {
   "cell_type": "code",
   "execution_count": 14,
   "metadata": {},
   "outputs": [],
   "source": [
    "fkranks = card_ranks(fk)\n",
    "tpranks = card_ranks(tp)\n",
    "assert kind(4, fkranks) == 9\n",
    "assert kind(3, fkranks) == None\n",
    "assert kind(2, fkranks) == None\n",
    "assert kind(1, fkranks) == 7"
   ]
  },
  {
   "cell_type": "code",
   "execution_count": null,
   "metadata": {},
   "outputs": [],
   "source": []
  },
  {
   "cell_type": "code",
   "execution_count": 15,
   "metadata": {},
   "outputs": [],
   "source": [
    "def two_pair(ranks):\n",
    "    \"\"\"If there are two pair, return the two ranks as a\n",
    "    tuple: (highest, lowest); otherwise return None.\"\"\"\n",
    "\n",
    "    pairs = set([e for e in ranks if ranks.count(e) == 2])\n",
    "\n",
    "    if len(pairs) != 2:\n",
    "        return None\n",
    "\n",
    "    return tuple(sorted(pairs, reverse=True))"
   ]
  },
  {
   "cell_type": "code",
   "execution_count": 16,
   "metadata": {},
   "outputs": [],
   "source": [
    "assert two_pair([1, 2, 1, 2, 5]) == (2, 1)\n",
    "assert two_pair([1, 1, 1, 2, 5]) == None\n",
    "assert two_pair([10, 10, 5, 5, 2]) == (10, 5)"
   ]
  },
  {
   "cell_type": "markdown",
   "metadata": {},
   "source": [
    "My version does not require `ranks` to be ordered\n",
    "\n",
    "Peter:"
   ]
  },
  {
   "cell_type": "code",
   "execution_count": 17,
   "metadata": {},
   "outputs": [],
   "source": [
    "def two_pair(ranks):\n",
    "    \"\"\"If there are two pair, return the two ranks as a\n",
    "    tuple: (highest, lowest); otherwise return None.\"\"\"\n",
    "\n",
    "    ranks = sorted(ranks, reverse=True)\n",
    "\n",
    "    pair = kind(2, ranks)\n",
    "    lowpair = kind(2, list(reversed(ranks)))\n",
    "\n",
    "    if pair and lowpair != pair:\n",
    "        return (pair, lowpair)\n",
    "\n",
    "    return None"
   ]
  },
  {
   "cell_type": "code",
   "execution_count": 18,
   "metadata": {},
   "outputs": [],
   "source": [
    "assert two_pair([1, 2, 1, 2, 5]) == (2, 1)\n",
    "assert two_pair([1, 1, 1, 2, 5]) == None\n",
    "assert two_pair([10, 10, 5, 5, 2]) == (10, 5)"
   ]
  },
  {
   "cell_type": "markdown",
   "metadata": {},
   "source": [
    "If there's a straight hand starting with ACE, the ace counts as 1, not 14.\n",
    "\n",
    "How to handle it?"
   ]
  },
  {
   "cell_type": "markdown",
   "metadata": {},
   "source": [
    "The amount of change in code should be proportional to the amount of change in the conceptualization of it.\n",
    "\n",
    "1 change in concept ~= 1 change in code"
   ]
  },
  {
   "cell_type": "code",
   "execution_count": 19,
   "metadata": {},
   "outputs": [],
   "source": [
    "def card_ranks(hand):\n",
    "    \"Return a list of the ranks, sorted with higher first.\"\n",
    "    ranks = (\n",
    "        [\"--23456789TJQKA\".index(r) for r, s in hand]\n",
    "        if hand[0][0] != \"A\"\n",
    "        else [\"-A23456789TJQK\".index(r) for r, s in hand]\n",
    "    )\n",
    "    ranks.sort(reverse=True)\n",
    "    return ranks"
   ]
  },
  {
   "cell_type": "markdown",
   "metadata": {},
   "source": [
    "Peter"
   ]
  },
  {
   "cell_type": "code",
   "execution_count": 20,
   "metadata": {},
   "outputs": [],
   "source": [
    "def card_ranks(hand):\n",
    "    \"Return a list of the ranks, sorted with higher first.\"\n",
    "    ranks = [\"--23456789TJQKA\".index(r) for r, s in hand]\n",
    "    ranks.sort(reverse=True)\n",
    "    return [5,4,3,2,1] if (ranks == [14,5,4,3,2]) else ranks"
   ]
  },
  {
   "cell_type": "markdown",
   "metadata": {},
   "source": [
    "Handle ties"
   ]
  },
  {
   "cell_type": "code",
   "execution_count": 21,
   "metadata": {},
   "outputs": [],
   "source": [
    "def allmax(iterable, key=None):\n",
    "    \"Return a list of all items equal to the max of the iterable.\"\n",
    "    one_max = hand_rank(max(iterable, key=key))\n",
    "    \n",
    "    return [e for e in iterable if hand_rank(e) == one_max]"
   ]
  },
  {
   "cell_type": "code",
   "execution_count": 22,
   "metadata": {},
   "outputs": [],
   "source": [
    "def poker(hands):\n",
    "    \"Return the best hand: poker([hand,...]) => hand\"\n",
    "    r = allmax(hands, key=hand_rank)\n",
    "    print(r)\n",
    "    return r"
   ]
  },
  {
   "cell_type": "code",
   "execution_count": 23,
   "metadata": {},
   "outputs": [
    {
     "name": "stdout",
     "output_type": "stream",
     "text": [
      "[['6C', '7C', '8C', '9C', 'TC'], ['6D', '7D', '8D', '9D', 'TD']]\n"
     ]
    }
   ],
   "source": [
    "\"Test cases for the functions in poker program.\"\n",
    "sf1 = \"6C 7C 8C 9C TC\".split()  # Straight Flush\n",
    "sf2 = \"6D 7D 8D 9D TD\".split()  # Straight Flush\n",
    "fk = \"9D 9H 9S 9C 7D\".split()  # Four of a Kind\n",
    "fh = \"TD TC TH 7C 7D\".split()  # Full House\n",
    "assert poker([sf1, sf2, fk, fh]) == [sf1, sf2]"
   ]
  },
  {
   "cell_type": "code",
   "execution_count": 24,
   "metadata": {},
   "outputs": [
    {
     "data": {
      "text/plain": [
       "[['6C', '7C', '8C', '9C', 'TC'], ['6D', '7D', '8D', '9D', 'TD']]"
      ]
     },
     "execution_count": 24,
     "metadata": {},
     "output_type": "execute_result"
    }
   ],
   "source": [
    "allmax([sf1, sf2, fk, fh], key=hand_rank)"
   ]
  },
  {
   "cell_type": "markdown",
   "metadata": {},
   "source": [
    "Peter\n",
    "\n",
    "(I like mine more)"
   ]
  },
  {
   "cell_type": "code",
   "execution_count": 25,
   "metadata": {},
   "outputs": [],
   "source": [
    "def allmax(iterable, key=None):\n",
    "    \"Return a list of all items equal to the max of the iterable.\"\n",
    "    result, maxval = [], None\n",
    "    \n",
    "    key = key or (lambda x: x)\n",
    "    \n",
    "    for x in iterable:\n",
    "        # key will be hand_rank\n",
    "        xval = key(x)\n",
    "        \n",
    "        if not result or xval > maxval:\n",
    "            result, maxval = [x], xval\n",
    "        elif xval == maxval:\n",
    "            result.append(x)\n",
    "            \n",
    "    return result"
   ]
  },
  {
   "cell_type": "markdown",
   "metadata": {},
   "source": [
    "Write function to deal cards"
   ]
  },
  {
   "cell_type": "code",
   "execution_count": 26,
   "metadata": {},
   "outputs": [],
   "source": [
    "import random"
   ]
  },
  {
   "cell_type": "code",
   "execution_count": 27,
   "metadata": {},
   "outputs": [],
   "source": [
    "mydeck = [r+s for r in '23456789TJQKA' for s in 'SHDC']"
   ]
  },
  {
   "cell_type": "code",
   "execution_count": 204,
   "metadata": {},
   "outputs": [],
   "source": [
    "def deal(numhands, n=5, deck=mydeck):\n",
    "    return [[random.choice(deck) for _ in range(n)] for _ in range(numhands)]"
   ]
  },
  {
   "cell_type": "code",
   "execution_count": 205,
   "metadata": {},
   "outputs": [
    {
     "data": {
      "text/plain": [
       "[['TH', '7H', 'TD', 'AC', '4D'],\n",
       " ['TD', 'TC', '3H', '6D', '5S'],\n",
       " ['QC', '4H', '3H', '6H', 'QD'],\n",
       " ['8S', '9C', '3C', '4C', '4H'],\n",
       " ['9H', 'KH', '9D', '3H', '9H']]"
      ]
     },
     "execution_count": 205,
     "metadata": {},
     "output_type": "execute_result"
    }
   ],
   "source": [
    "deal(5)"
   ]
  },
  {
   "cell_type": "markdown",
   "metadata": {},
   "source": [
    "I noticed my implementation is wrong because the same card can be dealt multiple times (using `random.choice`.\n",
    "\n",
    "As a fix, I could write it like:"
   ]
  },
  {
   "cell_type": "code",
   "execution_count": 78,
   "metadata": {},
   "outputs": [
    {
     "data": {
      "text/plain": [
       "[['8S', '7H', '2C', '9S', '2H'],\n",
       " ['JC', 'QD', 'QH', '2D', 'TH'],\n",
       " ['TC', 'AD', '2S', 'JD', '9D'],\n",
       " ['7D', 'QC', '3H', '9C', '5C'],\n",
       " ['6D', '5D', 'TD', '5S', '4D']]"
      ]
     },
     "execution_count": 78,
     "metadata": {},
     "output_type": "execute_result"
    }
   ],
   "source": [
    "def deal(numhands, n=5, fresh_deck=mydeck):\n",
    "\n",
    "    # copy to avoid mutating original list (in python it's a reference)\n",
    "    deck = fresh_deck.copy()\n",
    "    # deck = copy.deepcopy(fresh_deck)\n",
    "    # deck = [r+s for r in '23456789TJQKA' for s in 'SHDC']\n",
    "\n",
    "    hands = []\n",
    "\n",
    "    for i in range(numhands):\n",
    "        hand = [random.choice(deck) for _ in range(n)]\n",
    "        for card in hand:\n",
    "            deck.remove(card)\n",
    "\n",
    "        hands.append(hand)\n",
    "\n",
    "    return hands\n",
    "\n",
    "\n",
    "deal(5)"
   ]
  },
  {
   "cell_type": "markdown",
   "metadata": {},
   "source": [
    "This implementation has a bug!! The function `random.choice` could select the same cart twice, then when doing the `remove` in the list, the second time if would throw an error.\n",
    "\n",
    "In order to fix it, I need to use `random.sample()`"
   ]
  },
  {
   "cell_type": "code",
   "execution_count": 79,
   "metadata": {},
   "outputs": [
    {
     "data": {
      "text/plain": [
       "\u001b[0;31mSignature:\u001b[0m \u001b[0mrandom\u001b[0m\u001b[0;34m.\u001b[0m\u001b[0msample\u001b[0m\u001b[0;34m(\u001b[0m\u001b[0mpopulation\u001b[0m\u001b[0;34m,\u001b[0m \u001b[0mk\u001b[0m\u001b[0;34m)\u001b[0m\u001b[0;34m\u001b[0m\u001b[0;34m\u001b[0m\u001b[0m\n",
       "\u001b[0;31mDocstring:\u001b[0m\n",
       "Chooses k unique random elements from a population sequence or set.\n",
       "\n",
       "Returns a new list containing elements from the population while\n",
       "leaving the original population unchanged.  The resulting list is\n",
       "in selection order so that all sub-slices will also be valid random\n",
       "samples.  This allows raffle winners (the sample) to be partitioned\n",
       "into grand prize and second place winners (the subslices).\n",
       "\n",
       "Members of the population need not be hashable or unique.  If the\n",
       "population contains repeats, then each occurrence is a possible\n",
       "selection in the sample.\n",
       "\n",
       "To choose a sample in a range of integers, use range as an argument.\n",
       "This is especially fast and space efficient for sampling from a\n",
       "large population:   sample(range(10000000), 60)\n",
       "\u001b[0;31mFile:\u001b[0m      ~/.pyenv/versions/3.8.3/lib/python3.8/random.py\n",
       "\u001b[0;31mType:\u001b[0m      method\n"
      ]
     },
     "metadata": {},
     "output_type": "display_data"
    }
   ],
   "source": [
    "random.sample?"
   ]
  },
  {
   "cell_type": "code",
   "execution_count": 93,
   "metadata": {},
   "outputs": [
    {
     "data": {
      "text/plain": [
       "[['9C', 'JC', '3H', '5H', '4S'],\n",
       " ['9H', '3D', '7D', '3C', 'TD'],\n",
       " ['9S', 'KC', 'AH', '6S', 'KH'],\n",
       " ['AD', 'KD', 'AS', '7C', 'JD'],\n",
       " ['2H', '3S', '4H', '2S', 'TC']]"
      ]
     },
     "execution_count": 93,
     "metadata": {},
     "output_type": "execute_result"
    }
   ],
   "source": [
    "def deal(numhands, n=5, fresh_deck=mydeck):\n",
    "\n",
    "    # copy to avoid mutating original list (in python it's a reference)\n",
    "    deck = fresh_deck.copy()\n",
    "\n",
    "    hands = []\n",
    "\n",
    "    for i in range(numhands):\n",
    "        hand = random.sample(deck, n)\n",
    "        for card in hand:\n",
    "            deck.remove(card)\n",
    "\n",
    "        hands.append(hand)\n",
    "\n",
    "    return hands\n",
    "\n",
    "\n",
    "deal(5)"
   ]
  },
  {
   "cell_type": "markdown",
   "metadata": {},
   "source": [
    "Alternative"
   ]
  },
  {
   "cell_type": "code",
   "execution_count": 96,
   "metadata": {},
   "outputs": [
    {
     "data": {
      "text/plain": [
       "[['4D', '9S', '8C', '5S', '3C'],\n",
       " ['2H', 'AD', 'TC', '5C', 'QH'],\n",
       " ['TH', '2D', 'JD', 'AH', 'JC'],\n",
       " ['4H', '9C', '5H', 'AS', 'KS'],\n",
       " ['JS', '3H', 'KD', 'QC', '6S']]"
      ]
     },
     "execution_count": 96,
     "metadata": {},
     "output_type": "execute_result"
    }
   ],
   "source": [
    "def deal(numhands, n=5, fresh_deck=mydeck):\n",
    "\n",
    "    # copy to avoid mutating original list (in python it's a reference)\n",
    "    deck = fresh_deck.copy()\n",
    "\n",
    "    cards = random.sample(deck, n * numhands)\n",
    "\n",
    "    return [cards[n * i : n * (i + 1)] for i in range(numhands)]\n",
    "\n",
    "\n",
    "deal(5)"
   ]
  },
  {
   "cell_type": "markdown",
   "metadata": {},
   "source": [
    "Peter"
   ]
  },
  {
   "cell_type": "code",
   "execution_count": 208,
   "metadata": {},
   "outputs": [],
   "source": [
    "def deal(numhands, n=5, deck=mydeck):\n",
    "    random.shuffle(deck)\n",
    "    return [deck[n * i : n * (i + 1)] for i in range(numhands)]"
   ]
  },
  {
   "cell_type": "code",
   "execution_count": 207,
   "metadata": {},
   "outputs": [
    {
     "data": {
      "text/plain": [
       "[['AD', '5C', 'JD', '3H', 'QH'],\n",
       " ['6D', '3S', '4H', '7D', 'JC'],\n",
       " ['AC', 'JS', '6H', 'TD', '2D'],\n",
       " ['AS', 'QD', '4C', '5H', '9S'],\n",
       " ['TH', '8C', '8S', '5S', '3C']]"
      ]
     },
     "execution_count": 207,
     "metadata": {},
     "output_type": "execute_result"
    }
   ],
   "source": [
    "deal(5)"
   ]
  },
  {
   "cell_type": "markdown",
   "metadata": {},
   "source": [
    "**The 4 dimensions of programming**\n",
    "\n",
    "* Efficiency\n",
    "* Feature\n",
    "* Elegance (clarity, simplicity, generality)  <== refactorings.\n",
    "* Correctnes\n",
    "\n",
    "\n",
    "*The best is the enemy of the good* - Voltaire\n",
    "\n",
    "Do it good, but don't obesses over \"best\". You may lose the time. Learn to make good tradeofs.\n",
    "\n",
    "**Solving a problem**\n",
    "\n",
    "* Understand the problem: check the specification, does it make sense?, discuss it...\n",
    "* Define pieces of the problem\n",
    "* Re-use the pieces\n",
    "* Test\n",
    "* Explore: decide where you want to be in the 4 dimensions of programming (mentioned above)"
   ]
  },
  {
   "cell_type": "markdown",
   "metadata": {},
   "source": [
    "Homework\n",
    "\n",
    "Find best 5-card hand from 7 cards."
   ]
  },
  {
   "cell_type": "code",
   "execution_count": 134,
   "metadata": {},
   "outputs": [],
   "source": [
    "import itertools\n",
    "\n",
    "\n",
    "def best_hand(hand):\n",
    "    \"From a 7-card hand, return the best 5 card hand.\"\n",
    "\n",
    "    curr_max = (0, 0, 0)\n",
    "    best_hand = None\n",
    "\n",
    "    for comb in itertools.combinations(hand, 5):\n",
    "#         hand = [(e[0], e[-1]) for e in comb]\n",
    "        if hand_rank(comb) > curr_max:\n",
    "            curr_max = hand_rank(comb)\n",
    "            best_hand = comb\n",
    "\n",
    "    return list(best_hand)"
   ]
  },
  {
   "cell_type": "markdown",
   "metadata": {},
   "source": [
    "Peter"
   ]
  },
  {
   "cell_type": "code",
   "execution_count": 136,
   "metadata": {},
   "outputs": [],
   "source": [
    "def best_hand(hand):\n",
    "    return max(itertools.combinations(hand, 5), key=hand_rank)"
   ]
  },
  {
   "cell_type": "code",
   "execution_count": 135,
   "metadata": {},
   "outputs": [
    {
     "data": {
      "text/plain": [
       "'test_best_hand passes'"
      ]
     },
     "execution_count": 135,
     "metadata": {},
     "output_type": "execute_result"
    }
   ],
   "source": [
    "# ------------------\n",
    "# Provided Functions\n",
    "#\n",
    "# You may want to use some of the functions which\n",
    "# you have already defined in the unit to write\n",
    "# your best_hand function.\n",
    "\n",
    "\n",
    "def hand_rank(hand):\n",
    "    \"Return a value indicating the ranking of a hand.\"\n",
    "    ranks = card_ranks(hand)\n",
    "    if straight(ranks) and flush(hand):\n",
    "        return (8, max(ranks))\n",
    "    elif kind(4, ranks):\n",
    "        return (7, kind(4, ranks), kind(1, ranks))\n",
    "    elif kind(3, ranks) and kind(2, ranks):\n",
    "        return (6, kind(3, ranks), kind(2, ranks))\n",
    "    elif flush(hand):\n",
    "        return (5, ranks)\n",
    "    elif straight(ranks):\n",
    "        return (4, max(ranks))\n",
    "    elif kind(3, ranks):\n",
    "        return (3, kind(3, ranks), ranks)\n",
    "    elif two_pair(ranks):\n",
    "        return (2, two_pair(ranks), ranks)\n",
    "    elif kind(2, ranks):\n",
    "        return (1, kind(2, ranks), ranks)\n",
    "    else:\n",
    "        return (0, ranks)\n",
    "\n",
    "\n",
    "def card_ranks(hand):\n",
    "    \"Return a list of the ranks, sorted with higher first.\"\n",
    "    ranks = [\"--23456789TJQKA\".index(r) for r, s in hand]\n",
    "    ranks.sort(reverse=True)\n",
    "    return [5, 4, 3, 2, 1] if (ranks == [14, 5, 4, 3, 2]) else ranks\n",
    "\n",
    "\n",
    "def flush(hand):\n",
    "    \"Return True if all the cards have the same suit.\"\n",
    "    suits = [s for r, s in hand]\n",
    "    return len(set(suits)) == 1\n",
    "\n",
    "\n",
    "def straight(ranks):\n",
    "    \"\"\"Return True if the ordered\n",
    "    ranks form a 5-card straight.\"\"\"\n",
    "    return (max(ranks) - min(ranks) == 4) and len(set(ranks)) == 5\n",
    "\n",
    "\n",
    "def kind(n, ranks):\n",
    "    \"\"\"Return the first rank that this hand has\n",
    "    exactly n-of-a-kind of. Return None if there\n",
    "    is no n-of-a-kind in the hand.\"\"\"\n",
    "    for r in ranks:\n",
    "        if ranks.count(r) == n:\n",
    "            return r\n",
    "    return None\n",
    "\n",
    "\n",
    "def two_pair(ranks):\n",
    "    \"\"\"If there are two pair here, return the two\n",
    "    ranks of the two pairs, else None.\"\"\"\n",
    "    pair = kind(2, ranks)\n",
    "    lowpair = kind(2, list(reversed(ranks)))\n",
    "    if pair and lowpair != pair:\n",
    "        return (pair, lowpair)\n",
    "    else:\n",
    "        return None\n",
    "\n",
    "\n",
    "def test_best_hand():\n",
    "    assert sorted(best_hand(\"6C 7C 8C 9C TC 5C JS\".split())) == [\n",
    "        \"6C\",\n",
    "        \"7C\",\n",
    "        \"8C\",\n",
    "        \"9C\",\n",
    "        \"TC\",\n",
    "    ]\n",
    "    assert sorted(best_hand(\"TD TC TH 7C 7D 8C 8S\".split())) == [\n",
    "        \"8C\",\n",
    "        \"8S\",\n",
    "        \"TC\",\n",
    "        \"TD\",\n",
    "        \"TH\",\n",
    "    ]\n",
    "    assert sorted(best_hand(\"JD TC TH 7C 7D 7S 7H\".split())) == [\n",
    "        \"7C\",\n",
    "        \"7D\",\n",
    "        \"7H\",\n",
    "        \"7S\",\n",
    "        \"JD\",\n",
    "    ]\n",
    "    return \"test_best_hand passes\"\n",
    "\n",
    "\n",
    "test_best_hand()"
   ]
  },
  {
   "cell_type": "code",
   "execution_count": 137,
   "metadata": {},
   "outputs": [],
   "source": [
    "# Write a function best_wild_hand(hand) that takes as\n",
    "# input a 7-card hand and returns the best 5 card hand.\n",
    "# In this problem, it is possible for a hand to include\n",
    "# jokers. Jokers will be treated as 'wild cards' which\n",
    "# can take any rank or suit of the same color. The\n",
    "# black joker, '?B', can be used as any spade or club\n",
    "# and the red joker, '?R', can be used as any heart\n",
    "# or diamond.\n",
    "#\n",
    "# The itertools library may be helpful. Feel free to\n",
    "# define multiple functions if it helps you solve the\n",
    "# problem.\n",
    "#\n",
    "# -----------------\n",
    "# Grading Notes\n",
    "#\n",
    "# Muliple correct answers will be accepted in cases\n",
    "# where the best hand is ambiguous (for example, if\n",
    "# you have 4 kings and 3 queens, there are three best\n",
    "# hands: 4 kings along with any of the three queens)."
   ]
  },
  {
   "cell_type": "code",
   "execution_count": 141,
   "metadata": {},
   "outputs": [],
   "source": [
    "blues = [r + s for r in \"23456789TJQKA\" for s in \"SC\"]\n",
    "reds = [r + s for r in \"23456789TJQKA\" for s in \"HD\"]"
   ]
  },
  {
   "cell_type": "code",
   "execution_count": null,
   "metadata": {},
   "outputs": [],
   "source": [
    "def best_wild_hand(hand):\n",
    "    \"Try all values for jokers in all 5-card selections.\"\n",
    "\n",
    "\n",
    "assert sorted(best_wild_hand(\"6C 7C 8C 9C TC 5C ?B\".split())) == [\n",
    "    \"7C\",\n",
    "    \"8C\",\n",
    "    \"9C\",\n",
    "    \"JC\",\n",
    "    \"TC\",\n",
    "]\n",
    "assert sorted(best_wild_hand(\"TD TC 5H 5C 7C ?R ?B\".split())) == [\n",
    "    \"7C\",\n",
    "    \"TC\",\n",
    "    \"TD\",\n",
    "    \"TH\",\n",
    "    \"TS\",\n",
    "]\n",
    "assert sorted(best_wild_hand(\"JD TC TH 7C 7D 7S 7H\".split())) == [\n",
    "    \"7C\",\n",
    "    \"7D\",\n",
    "    \"7H\",\n",
    "    \"7S\",\n",
    "    \"JD\",\n",
    "]"
   ]
  },
  {
   "cell_type": "code",
   "execution_count": null,
   "metadata": {},
   "outputs": [],
   "source": []
  },
  {
   "cell_type": "code",
   "execution_count": 103,
   "metadata": {},
   "outputs": [],
   "source": [
    "def f(x):\n",
    "    return x + 1"
   ]
  },
  {
   "cell_type": "code",
   "execution_count": 104,
   "metadata": {},
   "outputs": [],
   "source": [
    "def ff(x):\n",
    "    return x + 2"
   ]
  },
  {
   "cell_type": "code",
   "execution_count": 105,
   "metadata": {},
   "outputs": [],
   "source": [
    "m = {1: 2, 3: 4, \"asd\": [(\"aa\", 2), (f, 4)], ff: 1}"
   ]
  },
  {
   "cell_type": "code",
   "execution_count": 108,
   "metadata": {},
   "outputs": [
    {
     "data": {
      "text/plain": [
       "1"
      ]
     },
     "execution_count": 108,
     "metadata": {},
     "output_type": "execute_result"
    }
   ],
   "source": [
    "m[ff]"
   ]
  },
  {
   "cell_type": "code",
   "execution_count": null,
   "metadata": {},
   "outputs": [],
   "source": []
  }
 ],
 "metadata": {
  "kernelspec": {
   "display_name": "testing",
   "language": "python",
   "name": "testing"
  },
  "language_info": {
   "codemirror_mode": {
    "name": "ipython",
    "version": 3
   },
   "file_extension": ".py",
   "mimetype": "text/x-python",
   "name": "python",
   "nbconvert_exporter": "python",
   "pygments_lexer": "ipython3",
   "version": "3.8.3"
  }
 },
 "nbformat": 4,
 "nbformat_minor": 4
}
