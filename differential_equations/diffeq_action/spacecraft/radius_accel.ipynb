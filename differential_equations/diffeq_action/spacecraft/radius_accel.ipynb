{
 "cells": [
  {
   "cell_type": "markdown",
   "metadata": {},
   "source": [
    "$ \\operatorname{acceleration}=G \\frac{m_{E}}{r^{2}} $  \n",
    "\n",
    "\n",
    "$ \\operatorname{acceleration}=(2 \\pi)^{2} \\frac{r}{T^{2}} $\n",
    "\n",
    "$ (2 \\pi)^{2} \\frac{r}{T^{2}}=G \\frac{m_{E}}{r^{2}} $  \n",
    "\n",
    "$ {r^{3}}=G \\frac{m_{E} T^{2}}{(2 \\pi)^{2}} $\n",
    "\n",
    "$ {r}=\\sqrt[3]{G \\frac{m_{E} T^{2}}{(2 \\pi)^{2}}} $\n",
    "\n"
   ]
  },
  {
   "cell_type": "code",
   "execution_count": 1,
   "metadata": {},
   "outputs": [],
   "source": [
    "import numpy as np"
   ]
  },
  {
   "cell_type": "code",
   "execution_count": 3,
   "metadata": {},
   "outputs": [],
   "source": [
    "mass = 5.97e24\n",
    "G = 6.67e-11"
   ]
  },
  {
   "cell_type": "code",
   "execution_count": 5,
   "metadata": {},
   "outputs": [
    {
     "data": {
      "text/plain": [
       "42226910.17617501"
      ]
     },
     "execution_count": 5,
     "metadata": {},
     "output_type": "execute_result"
    }
   ],
   "source": [
    "np.cbrt(G * mass * 86400**2 / ((2*np.pi)**2)) # in meters"
   ]
  },
  {
   "cell_type": "code",
   "execution_count": null,
   "metadata": {},
   "outputs": [],
   "source": []
  }
 ],
 "metadata": {
  "kernelspec": {
   "display_name": "Python 3",
   "language": "python",
   "name": "python3"
  },
  "language_info": {
   "codemirror_mode": {
    "name": "ipython",
    "version": 3
   },
   "file_extension": ".py",
   "mimetype": "text/x-python",
   "name": "python",
   "nbconvert_exporter": "python",
   "pygments_lexer": "ipython3",
   "version": "3.7.3"
  }
 },
 "nbformat": 4,
 "nbformat_minor": 2
}
