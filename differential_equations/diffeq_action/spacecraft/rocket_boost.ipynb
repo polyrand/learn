{
 "cells": [
  {
   "cell_type": "code",
   "execution_count": 8,
   "metadata": {},
   "outputs": [
    {
     "name": "stdout",
     "output_type": "stream",
     "text": [
      "boost\n",
      "[-4386.14522401 -2292.88072321]\n",
      "[-265.86457243 -138.98211801]\n"
     ]
    },
    {
     "data": {
      "image/png": "[encoded data removed]",
      "text/plain": [
       "<Figure size 648x288 with 1 Axes>"
      ]
     },
     "metadata": {
      "needs_background": "light"
     },
     "output_type": "display_data"
    }
   ],
   "source": [
    "# QUIZ\n",
    "#\n",
    "# We need to demonstrate firing the \n",
    "# boost rocket at the appropriate \n",
    "# time, and show how that alters the \n",
    "# trajectory of the capsule! Modify \n",
    "# the apply_boost function below to \n",
    "# fire the boost rocket 2 hours \n",
    "# after start, increasing the speed \n",
    "# by 300 m / s in the current \n",
    "# direction of travel when you do.\n",
    "#\n",
    "# HINT: Use the boolean variable \n",
    "# boost_done to store whether or not \n",
    "# this boost has occurred.\n",
    "\n",
    "from udacityplots import *\n",
    "import numpy as np\n",
    "import numpy\n",
    "\n",
    "h = 3.0 # s\n",
    "earth_mass = 5.97e24 # kg\n",
    "spacecraft_mass = 30000. # kg\n",
    "gravitational_constant = 6.67e-11 # N m2 / kg2\n",
    "\n",
    "# This is used to keep track of the data that we want to plot.\n",
    "data = []\n",
    "\n",
    "def acceleration(spaceship_position):\n",
    "    vector_to_earth = - spaceship_position # earth located at origin\n",
    "    return gravitational_constant * earth_mass / numpy.linalg.norm(vector_to_earth)**3 * vector_to_earth\n",
    "\n",
    "def apply_boost():\n",
    "    num_steps = 7000\n",
    "    x = numpy.zeros([num_steps + 1, 2]) # m\n",
    "    v = numpy.zeros([num_steps + 1, 2]) # m / s\n",
    "\n",
    "    x[0, 0] = 15e6\n",
    "    x[0, 1] = 1e6    \n",
    "    v[0, 0] = 2e3\n",
    "    v[0, 1] = 4e3\n",
    "\n",
    "    boost_done = False\n",
    "\n",
    "    for step in range(num_steps):\n",
    "        if step*3 == 7200 and boost_done == False:\n",
    "            print('boost')\n",
    "            print(v[step])\n",
    "            boost = v[step]/np.linalg.norm(v[step])*300\n",
    "            print(boost)\n",
    "            v[step] += boost\n",
    "            boost_done = True\n",
    "            ###Your code here.\n",
    "\n",
    "            # data.append((x[step, 0], x[step, 1]))\n",
    "\n",
    "        acceleration0 = acceleration(x[step])\n",
    "        xE = x[step] + h * v[step]\n",
    "        vE = v[step] + h * acceleration0\n",
    "        x[step + 1] = x[step] + h * 0.5 * (v[step] + vE)\n",
    "        v[step + 1] = v[step] + h * 0.5 * (acceleration0 + acceleration(xE))\n",
    "\n",
    "    return x, v\n",
    "\n",
    "x, v = apply_boost()\n",
    "\n",
    "@show_plot\n",
    "def plot_me():\n",
    "    for (x_0, x_1) in data:\n",
    "        matplotlib.pyplot.scatter(x_0, x_1, c = 'r')\n",
    "    matplotlib.pyplot.plot(x[:, 0], x[:, 1])\n",
    "    matplotlib.pyplot.scatter(0, 0)\n",
    "    matplotlib.pyplot.axis('equal')\n",
    "    axes = matplotlib.pyplot.gca()\n",
    "    axes.set_xlabel('Longitudinal position in m')\n",
    "    axes.set_ylabel('Lateral position in m')\n",
    "\n",
    "plot_me()\n",
    "\n"
   ]
  },
  {
   "cell_type": "code",
   "execution_count": null,
   "metadata": {},
   "outputs": [],
   "source": []
  }
 ],
 "metadata": {
  "kernelspec": {
   "display_name": "Python 3",
   "language": "python",
   "name": "python3"
  },
  "language_info": {
   "codemirror_mode": {
    "name": "ipython",
    "version": 3
   },
   "file_extension": ".py",
   "mimetype": "text/x-python",
   "name": "python",
   "nbconvert_exporter": "python",
   "pygments_lexer": "ipython3",
   "version": "3.7.3"
  }
 },
 "nbformat": 4,
 "nbformat_minor": 2
}
