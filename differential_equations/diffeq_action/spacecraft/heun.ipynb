{
 "cells": [
  {
   "cell_type": "markdown",
   "metadata": {},
   "source": [
    "# Heun's Method"
   ]
  },
  {
   "cell_type": "markdown",
   "metadata": {},
   "source": [
    "**A solver of order 2**\n",
    "\n",
    "We use the average of current speed / position and speed / position after step *h*.\n",
    "\n",
    "\n",
    "$\\vec{x}(h)=\\vec{x}(0)+h\\vec{v}(0)=\\vec{x}_E$  \n",
    "$\\vec{v}(h)=\\vec(0)+h\\frac{\\vec{F}(0, \\vec{x}(0))}{m}=\\vec{v}_E$ \n",
    " \n",
    " ⬇️  \n",
    " \n",
    "$\\vec{x}(h)=\\vec{x}(0)+h \\frac{\\vec{v}(0)+\\vec{v}_{E}}{2}=\\vec{x}_H$  \n",
    "$\\vec{v}(h)=\\vec{v}(0)+h \\frac{\\vec{F}(0, \\vec{x}_0)+\\vec{F}(h, \\vec{x}_{E})}{2 m}$  \n",
    "\n",
    "**Note:** \n",
    "$\\frac{\\vec{F}(0, \\vec{x}_0)+\\vec{F}(h, \\vec{x}_{E})}{2 m}=\\frac{\\vec{accel}_0+\\vec{accel}_h}{2}$"
   ]
  },
  {
   "cell_type": "markdown",
   "metadata": {},
   "source": [
    "## Local Transition Error\n",
    "\n",
    "$LTE_E=||\\vec{x}_E-\\vec{x}_H||+T||\\vec{v}_E-\\vec{v}_H||=Ch^2_{old}$  \n",
    "$Tolerance=||\\vec{x}_E-\\vec{x}_H||+T||\\vec{v}_E-\\vec{v}_H||$  \n",
    "$Ch^2_{new} \\approx tolerance$  \n",
    "$C = \\frac{LTE_E}{h^2_{old}}$  \n",
    "$h_{new}=h_{old}\\sqrt{\\frac{tolerance}{LTE}}$  \n",
    "\n",
    "Where T = time of the simulation. To account for $m$ vs $\\frac{m}{s}$"
   ]
  },
  {
   "cell_type": "markdown",
   "metadata": {},
   "source": [
    "After we do a step with the olde step size $h_{old}$ we get an estimate for a perfect step size $h_{new}$ for Euler's method. We can keep doing that as we go and the step size will be adjusted automatically. The solution will be stepping at proper step sizes, for examepl when we are getting close to a planet the step size will become smaller."
   ]
  },
  {
   "cell_type": "code",
   "execution_count": 12,
   "metadata": {},
   "outputs": [],
   "source": [
    "# QUIZ\n",
    "#\n",
    "# Implement Heun's Method in the function below, \n",
    "# building off of the Forward Euler method as a \n",
    "# base. The resulting diagram will show the \n",
    "# errors in comparison.\n",
    "\n",
    "import math\n",
    "from udacityplots import *\n",
    "import numpy\n",
    "import numpy as np\n",
    "\n",
    "total_time = 24. * 3600. # s\n",
    "g = 9.81 # m / s2\n",
    "earth_mass = 5.97e24 # kg\n",
    "gravitational_constant = 6.67e-11 # N m2 / kg2\n",
    "radius = (gravitational_constant * earth_mass * total_time**2. / 4. / math.pi ** 2.) ** (1. / 3.)\n",
    "speed = 2.0 * math.pi * radius / total_time\n",
    "\n",
    "# These are used to keep track of the data we want to plot\n",
    "h_array = []\n",
    "euler_error_array = []\n",
    "heuns_error_array = []\n",
    "\n",
    "def acceleration(spaceship_position):\n",
    "    vector_to_earth = - spaceship_position # earth located at origin\n",
    "    return gravitational_constant * earth_mass / numpy.linalg.norm(vector_to_earth)**3 * vector_to_earth\n",
    "\n"
   ]
  },
  {
   "cell_type": "code",
   "execution_count": 14,
   "metadata": {},
   "outputs": [
    {
     "data": {
      "image/png": "[encoded data removed]",
      "text/plain": [
       "<Figure size 648x288 with 1 Axes>"
      ]
     },
     "metadata": {
      "needs_background": "light"
     },
     "output_type": "display_data"
    }
   ],
   "source": [
    "def heuns_method(num_steps):\n",
    "    ###Original Euler Method\n",
    "    h = total_time / num_steps\n",
    "\n",
    "    x = numpy.zeros([num_steps + 1, 2]) # m\n",
    "    v = numpy.zeros([num_steps + 1, 2]) # m / s\n",
    "\n",
    "    x[0, 0] = radius\n",
    "    v[0, 1] = speed\n",
    "\n",
    "    for step in range(num_steps):\n",
    "        x[step + 1] = x[step] + h * v[step]\n",
    "        v[step + 1] = v[step] + h * acceleration(x[step])\n",
    "\n",
    "    error = numpy.linalg.norm(x[-1] - x[0])\n",
    "    h_array.append(h)\n",
    "    euler_error_array.append(error)\n",
    "    ###End Original Euler Method\n",
    "\n",
    "    ###Heun's Method\n",
    "    for step in range(num_steps):\n",
    "        x_e = x[step] + h * v[step]\n",
    "        v_e = v[step] + h * acceleration(x[step])\n",
    "        x[step+1] = x[step] + h * ((v[step]+v_e)/2.)\n",
    "        v[step+1] = v[step] + h * ((acceleration(x[step])+acceleration(x_e))/2.)\n",
    "\n",
    "    error = numpy.linalg.norm(x[-1] - x[0])\n",
    "    heuns_error_array.append(error)\n",
    "\n",
    "    ###End Heun's Method\n",
    "\n",
    "    return x, v, error\n",
    "\n",
    "for num_steps in [50, 100, 200, 500, 1000]:\n",
    "    x, v, error = heuns_method(num_steps) #Check x, v, error\n",
    "\n",
    "\n",
    "@show_plot\n",
    "def plot_me():\n",
    "    matplotlib.pyplot.scatter(h_array, euler_error_array, c = 'g')\n",
    "    matplotlib.pyplot.scatter(h_array, heuns_error_array, c = 'b')\n",
    "    matplotlib.pyplot.xlim(left = 0.)\n",
    "    matplotlib.pyplot.ylim(bottom = 0.)\n",
    "    axes = matplotlib.pyplot.gca()\n",
    "    axes.set_xlabel('Step size in s')\n",
    "    axes.set_ylabel('Error in m')\n",
    "    \n",
    "plot_me()"
   ]
  },
  {
   "cell_type": "markdown",
   "metadata": {},
   "source": [
    "## Local Transition Error\n",
    "\n",
    "$LTE_E=||\\vec{x}_E-\\vec{x}_H||+T||\\vec{v}_E-\\vec{v}_H||=Ch^2_{old}$  \n",
    "$Tolerance=||\\vec{x}_E-\\vec{x}_H||+T||\\vec{v}_E-\\vec{v}_H||$  \n",
    "$Ch^2_{new} \\approx tolerance$  \n",
    "$C = \\frac{LTE_E}{h^2_{old}}$  \n",
    "$h_{new}=h_{old}\\sqrt{\\frac{tolerance}{LTE}}$  \n",
    "\n",
    "Where T = time of the simulation. To account for $m$ vs $\\frac{m}{s}$"
   ]
  },
  {
   "cell_type": "markdown",
   "metadata": {},
   "source": [
    "After we do a step with the olde step size $h_{old}$ we get an estimate for a perfect step size $h_{new}$ for Euler's method. We can keep doing that as we go and the step size will be adjusted automatically. The solution will be stepping at proper step sizes, for examepl when we are getting close to a planet the step size will become smaller."
   ]
  },
  {
   "cell_type": "markdown",
   "metadata": {},
   "source": [
    "<tr>\n",
    "<td> <img src=\"media/hnew_old.png\" alt=\"Drawing\" style=\"width: 450px;\"/> </td>\n",
    "</tr>"
   ]
  },
  {
   "cell_type": "code",
   "execution_count": 44,
   "metadata": {},
   "outputs": [],
   "source": [
    "# QUIZ\n",
    "#\n",
    "# Implement adaptive step size in the \n",
    "# below function.\n",
    "\n",
    "import math\n",
    "from udacityplots import *\n",
    "import numpy\n",
    "import numpy as np\n",
    "\n",
    "total_time = 12500 # s\n",
    "g = 9.81 # m / s2\n",
    "earth_mass = 5.97e24 # kg\n",
    "gravitational_constant = 6.67e-11 # N m2 / kg2\n",
    "\n",
    "def acceleration(spaceship_position):\n",
    "    vector_to_earth = - spaceship_position # earth located at origin\n",
    "    return gravitational_constant * earth_mass / numpy.linalg.norm(vector_to_earth)**3 * vector_to_earth"
   ]
  },
  {
   "cell_type": "code",
   "execution_count": 45,
   "metadata": {},
   "outputs": [
    {
     "ename": "NameError",
     "evalue": "name 'approx' is not defined",
     "output_type": "error",
     "traceback": [
      "\u001b[0;31m---------------------------------------------------------------------------\u001b[0m",
      "\u001b[0;31mNameError\u001b[0m                                 Traceback (most recent call last)",
      "\u001b[0;32m<ipython-input-45-245bd4c777a9>\u001b[0m in \u001b[0;36m<module>\u001b[0;34m\u001b[0m\n\u001b[0;32m----> 1\u001b[0;31m \u001b[0mapprox\u001b[0m\u001b[0;34m(\u001b[0m\u001b[0;36m0.3\u001b[0m\u001b[0;34m)\u001b[0m\u001b[0;34m\u001b[0m\u001b[0;34m\u001b[0m\u001b[0m\n\u001b[0m",
      "\u001b[0;31mNameError\u001b[0m: name 'approx' is not defined"
     ]
    }
   ],
   "source": [
    "approx(0.3)"
   ]
  },
  {
   "cell_type": "code",
   "execution_count": 46,
   "metadata": {},
   "outputs": [
    {
     "name": "stdout",
     "output_type": "stream",
     "text": [
      "a\n",
      "a\n"
     ]
    }
   ],
   "source": [
    "current_time = 125.\n",
    "while np.isclose(current_time, total_time).any() == False:\n",
    "    print('a')\n",
    "    current_time *= 10\n",
    "\n"
   ]
  },
  {
   "cell_type": "code",
   "execution_count": 48,
   "metadata": {},
   "outputs": [
    {
     "data": {
      "image/png": "[encoded data removed]",
      "text/plain": [
       "<Figure size 432x288 with 1 Axes>"
      ]
     },
     "metadata": {
      "needs_background": "light"
     },
     "output_type": "display_data"
    }
   ],
   "source": [
    "#@show_plot\n",
    "def orbit():\n",
    "    x = numpy.zeros(2) # m\n",
    "    v = numpy.zeros(2) # m / s\n",
    "    x[0] = 15e6\n",
    "    x[1] = 1e6    \n",
    "    v[0] = 2e3\n",
    "    v[1] = 4e3\n",
    "    matplotlib.pyplot.scatter(x[0], x[1], s = 4)\n",
    "\n",
    "    current_time = 0 # s\n",
    "    h = 100 # s\n",
    "    h_new = h # s, will store the adaptive step size of the next step\n",
    "    tolerance = 5e5 # m\n",
    "\n",
    "    while current_time < total_time:\n",
    "        acceleration0 = acceleration(x)    \n",
    "        xE = x + h * v\n",
    "        vE = v + h * acceleration0\n",
    "        xH = x + h * 0.5 * (v + vE)\n",
    "        vH = v + h * 0.5 * (acceleration0 + acceleration(xE))\n",
    "        x = xH\n",
    "        v = vH\n",
    "        \n",
    "        lte_e = np.linalg.norm(xE-xH) + total_time * np.linalg.norm(vE-vH)\n",
    "        h_new = h * np.sqrt(tolerance/lte_e)\n",
    "        \n",
    "        \n",
    "        matplotlib.pyplot.scatter(x[0], x[1], s = 1)\n",
    "        current_time += h\n",
    "        h = h_new\n",
    "        \n",
    "    matplotlib.pyplot.axis('equal')\n",
    "    matplotlib.pyplot.scatter(0., 0.) \n",
    "    axes = matplotlib.pyplot.gca()\n",
    "    axes.set_xlabel('Longitudinal position in m')\n",
    "    axes.set_ylabel('Lateral position in m')\n",
    "    return x, v\n",
    "\n",
    "x, v = orbit()"
   ]
  },
  {
   "cell_type": "code",
   "execution_count": null,
   "metadata": {},
   "outputs": [],
   "source": []
  }
 ],
 "metadata": {
  "kernelspec": {
   "display_name": "Python 3",
   "language": "python",
   "name": "python3"
  },
  "language_info": {
   "codemirror_mode": {
    "name": "ipython",
    "version": 3
   },
   "file_extension": ".py",
   "mimetype": "text/x-python",
   "name": "python",
   "nbconvert_exporter": "python",
   "pygments_lexer": "ipython3",
   "version": "3.7.3"
  }
 },
 "nbformat": 4,
 "nbformat_minor": 2
}
