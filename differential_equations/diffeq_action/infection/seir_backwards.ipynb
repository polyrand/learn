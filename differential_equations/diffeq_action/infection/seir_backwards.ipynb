{
 "cells": [
  {
   "cell_type": "code",
   "execution_count": 41,
   "metadata": {},
   "outputs": [],
   "source": [
    "# QUIZ\n",
    "# \n",
    "# The function backward_euler below currently implements \n",
    "# the Forward Euler Method. Modify it to implement the \n",
    "# Backward Euler Method. When you're done, set the step \n",
    "# size h to 5. and see what happens!\n",
    "\n",
    "from udacityplots import *\n",
    "import math\n",
    "from math import sqrt\n",
    "import numpy\n",
    "import numpy as np\n",
    "import matplotlib.pyplot as plt\n",
    "import matplotlib\n"
   ]
  },
  {
   "cell_type": "code",
   "execution_count": 75,
   "metadata": {},
   "outputs": [],
   "source": [
    "h = 5.0 # days"
   ]
  },
  {
   "cell_type": "code",
   "execution_count": 76,
   "metadata": {},
   "outputs": [],
   "source": [
    "transmission_coeff = tc = 5e-9 # 1 / day person\n",
    "latency_time = lt =  1. # days\n",
    "infectious_time = it = 5. # days\n",
    "\n",
    "end_time = 60. # days\n",
    "num_steps = int(end_time / h)\n",
    "\n",
    "times = h * numpy.array(range(num_steps + 1))"
   ]
  },
  {
   "cell_type": "code",
   "execution_count": 77,
   "metadata": {},
   "outputs": [],
   "source": [
    "# very long lambdas\n",
    "# eh_lambda = lambda step: ((1/2)*lt*(e[step]*h**2*it*tc - h**2*i[step]*it*tc + h**2*it*s[step]*tc - h**2 - h*i[step]*it*lt*tc - h*it - h*lt - it*lt - sqrt(e[step]**2*h**4*it**2*tc**2 + 2*e[step]*h**4*i[step]*it**2*tc**2 + 2*e[step]*h**4*it**2*s[step]*tc**2 + 2*e[step]*h**4*it*tc + 2*e[step]*h**3*i[step]*it**2*lt*tc**2 + 2*e[step]*h**3*it**2*tc + 2*e[step]*h**3*it*lt*tc + 2*e[step]*h**2*it**2*lt*tc + h**4*i[step]**2*it**2*tc**2 + 2*h**4*i[step]*it**2*s[step]*tc**2 + 2*h**4*i[step]*it*tc + h**4*it**2*s[step]**2*tc**2 - 2*h**4*it*s[step]*tc + h**4 + 2*h**3*i[step]**2*it**2*lt*tc**2 + 2*h**3*i[step]*it**2*lt*s[step]*tc**2 + 2*h**3*i[step]*it**2*tc + 4*h**3*i[step]*it*lt*tc - 2*h**3*it**2*s[step]*tc - 2*h**3*it*lt*s[step]*tc + 2*h**3*it + 2*h**3*lt + h**2*i[step]**2*it**2*lt**2*tc**2 + 4*h**2*i[step]*it**2*lt*tc + 2*h**2*i[step]*it*lt**2*tc - 2*h**2*it**2*lt*s[step]*tc + h**2*it**2 + 4*h**2*it*lt + h**2*lt**2 + 2*h*i[step]*it**2*lt**2*tc + 2*h*it**2*lt + 2*h*it*lt**2 + it**2*lt**2))/(h**2*it*tc*(h + lt)))"
   ]
  },
  {
   "cell_type": "code",
   "execution_count": 78,
   "metadata": {},
   "outputs": [],
   "source": [
    "# eh_lambda2 = lambda step: ((1/2)*lt*(e[step]*h**2*it*tc - h**2*i[step]*it*tc + h**2*it*s[step]*tc - h**2 - h*i[step]*it*lt*tc - h*it - h*lt - it*lt + sqrt(e[step]**2*h**4*it**2*tc**2 + 2*e[step]*h**4*i[step]*it**2*tc**2 + 2*e[step]*h**4*it**2*s[step]*tc**2 + 2*e[step]*h**4*it*tc + 2*e[step]*h**3*i[step]*it**2*lt*tc**2 + 2*e[step]*h**3*it**2*tc + 2*e[step]*h**3*it*lt*tc + 2*e[step]*h**2*it**2*lt*tc + h**4*i[step]**2*it**2*tc**2 + 2*h**4*i[step]*it**2*s[step]*tc**2 + 2*h**4*i[step]*it*tc + h**4*it**2*s[step]**2*tc**2 - 2*h**4*it*s[step]*tc + h**4 + 2*h**3*i[step]**2*it**2*lt*tc**2 + 2*h**3*i[step]*it**2*lt*s[step]*tc**2 + 2*h**3*i[step]*it**2*tc + 4*h**3*i[step]*it*lt*tc - 2*h**3*it**2*s[step]*tc - 2*h**3*it*lt*s[step]*tc + 2*h**3*it + 2*h**3*lt + h**2*i[step]**2*it**2*lt**2*tc**2 + 4*h**2*i[step]*it**2*lt*tc + 2*h**2*i[step]*it*lt**2*tc - 2*h**2*it**2*lt*s[step]*tc + h**2*it**2 + 4*h**2*it*lt + h**2*lt**2 + 2*h*i[step]*it**2*lt**2*tc + 2*h*it**2*lt + 2*h*it*lt**2 + it**2*lt**2))/(h**2*it*tc*(h + lt)))"
   ]
  },
  {
   "cell_type": "code",
   "execution_count": 86,
   "metadata": {},
   "outputs": [
    {
     "data": {
      "image/png": "[encoded data removed]",
      "text/plain": [
       "<Figure size 648x288 with 1 Axes>"
      ]
     },
     "metadata": {
      "needs_background": "light"
     },
     "output_type": "display_data"
    }
   ],
   "source": [
    "def backward_euler():\n",
    "\n",
    "    s = numpy.zeros(num_steps + 1)\n",
    "    e = numpy.zeros(num_steps + 1)\n",
    "    i = numpy.zeros(num_steps + 1)\n",
    "    r = numpy.zeros(num_steps + 1)\n",
    "\n",
    "    s[0] = 1e8 - 1e6 - 1e5\n",
    "    e[0] = 0.\n",
    "    i[0] = 1e5\n",
    "    r[0] = 1e6\n",
    "\n",
    "    for step in range(num_steps):\n",
    "        # Forward Euler Method code\n",
    "        s2e = h * transmission_coeff * s[step] * i[step]\n",
    "        e2i = h / latency_time * e[step]\n",
    "        i2r = h / infectious_time * i[step]\n",
    "\n",
    "        ##### Tip: Start going from implicit to explict by treating one equation at a time and checking if the result is still ok. \n",
    "        #####      Start with the equation for r, then move to s, i, and e. Once you're done, change the step size h to 5.\n",
    "\n",
    "        #######SPOILER ALERT: This is the result for e[step + 1] from the Backward Euler method\n",
    "        # You may simply remove the comment signs to use it.\n",
    "        # Given enough practice in algebra, however, you may want to spend half an hour and derive this yourself.\n",
    "        # In essence, the derivation boils down to solving a quadratic equation.\n",
    "        # Start by expressing e[step + 1] + s[step + 1] with the help of e[step] and s[step].    \n",
    "        p = ((1.0 + h / infectious_time) / (h * transmission_coeff) + i[step]) / (h / latency_time) - (s[step] + e[step]) / (1.0 + h / latency_time) \n",
    "        q = -((1.0 + h / infectious_time) / (h * transmission_coeff) * e[step] + (s[step] + e[step]) * i[step]) / ((1.0 + h / latency_time) * (h / latency_time))\n",
    "        e[step + 1] = -0.5 * p + math.sqrt(0.25 * p * p - q)\n",
    "        #####################\n",
    "\n",
    "        ##### REPLACE THE CODE BELOW\n",
    "        \n",
    "        # e[step + 1] = e[step] + s2e - e2i\n",
    "        \n",
    "        \n",
    "        a = (i[step] + h / latency_time * e[step + 1]) / (1.0 + h / infectious_time)\n",
    "        b = it*(e[step+1]*h + i[step]*lt)/(lt*(h + it))\n",
    "        assert(round(a,4) == round(b,4))\n",
    "        \n",
    "        # BOTH FORMULAS ARE THE SAME (proof in the 3 lines above)\n",
    "        \n",
    "        # i[step + 1] = i[step] + e2i - i2r\n",
    "        # i[step+1] = (i[step] + h / latency_time * e[step + 1]) / (1.0 + h / infectious_time)\n",
    "        i[step+1] = it*(e[step+1]*h + i[step]*lt)/(lt*(h + it))\n",
    "        \n",
    "        \n",
    "        #s[step + 1] = s[step] - s2e\n",
    "        #a = s[step] * (1.0 / (1.0+transmission_coeff*h*i[step+1]))\n",
    "        #b = s[step] / (1.0 + h * transmission_coeff * i[step+1])\n",
    "        #assert(round(a,4) == round(b,4))\n",
    "\n",
    "        s[step+1] = s[step] * (1.0 / (1.0+transmission_coeff*h*i[step+1]))\n",
    "        #s[step+1] = s[step] / (1.0 + h * transmission_coeff * i[step+1])\n",
    "        \n",
    "        \n",
    "        # r[step + 1] = (1 / (1+h)) * r[step] + i2r\n",
    "        #a = r[step] + h / infectious_time * i[step+1]\n",
    "        #b = r[step] + h*((1/infectious_time)*i[step+1])\n",
    "        #assert(round(a,4) == round(b,4))\n",
    "        \n",
    "        r[step+1] = r[step] + h*((1.0/infectious_time)*i[step+1])\n",
    "        #r[step+1] = r[step] + h / infectious_time * i[step+1]\n",
    "        \n",
    "        ##### REPLACE THE CODE ABOVE\n",
    "\n",
    "    return s, e, i, r\n",
    "\n",
    "s, e, i, r = backward_euler()\n",
    "\n",
    "@show_plot\n",
    "def plot_me():\n",
    "    s_plot = matplotlib.pyplot.plot(times, s, label = 'S')\n",
    "    e_plot = matplotlib.pyplot.plot(times, e, label = 'E')\n",
    "    i_plot = matplotlib.pyplot.plot(times, i, label = 'I')\n",
    "    r_plot = matplotlib.pyplot.plot(times, r, label = 'R')\n",
    "    matplotlib.pyplot.legend(('S', 'E', 'I', 'R'), loc = 'upper right')\n",
    "    \n",
    "    axes = matplotlib.pyplot.gca()\n",
    "    axes.set_xlabel('Time in days')\n",
    "    axes.set_ylabel('Number of persons')\n",
    "    matplotlib.pyplot.xlim(left = 0.)\n",
    "    matplotlib.pyplot.ylim(bottom = 0.)\n",
    "\n",
    "plot_me()"
   ]
  },
  {
   "cell_type": "code",
   "execution_count": null,
   "metadata": {},
   "outputs": [],
   "source": []
  }
 ],
 "metadata": {
  "kernelspec": {
   "display_name": "Python 3",
   "language": "python",
   "name": "python3"
  },
  "language_info": {
   "codemirror_mode": {
    "name": "ipython",
    "version": 3
   },
   "file_extension": ".py",
   "mimetype": "text/x-python",
   "name": "python",
   "nbconvert_exporter": "python",
   "pygments_lexer": "ipython3",
   "version": "3.7.3"
  }
 },
 "nbformat": 4,
 "nbformat_minor": 2
}
