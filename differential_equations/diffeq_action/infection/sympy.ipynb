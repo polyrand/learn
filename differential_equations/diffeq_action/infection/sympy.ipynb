{
 "cells": [
  {
   "cell_type": "code",
   "execution_count": 25,
   "metadata": {},
   "outputs": [],
   "source": [
    "from sympy import *\n",
    "from sympy.utilities.lambdify import lambdastr"
   ]
  },
  {
   "cell_type": "code",
   "execution_count": 2,
   "metadata": {},
   "outputs": [],
   "source": [
    "i_0, s_0, e_0, r_0 = symbols('i_0 s_0 e_0 r_0')\n",
    "i_h, s_h, e_h, r_h = symbols('i_h s_h e_h r_h')\n",
    "lt, it, tc = symbols('lt it tc')\n",
    "h = symbols('h')"
   ]
  },
  {
   "cell_type": "markdown",
   "metadata": {},
   "source": [
    "## Formulas\n",
    "\n",
    "$S(h) = S(0) - TC \\cdot h \\cdot S(h) \\cdot I(h)$\n",
    "\n",
    "$E(h) = E(0) + TC \\cdot h \\cdot S(h) \\cdot I(h) - \\frac{1}{LT} \\cdot h \\cdot E(h)$\n",
    "\n",
    "$I(h) = I(0) + \\frac{1}{LT} \\cdot h \\cdot E(h) - \\frac{1}{IT} \\cdot h \\cdot I(h)$\n",
    "\n",
    "$R(h) = R(0) + \\frac{1}{IT} \\cdot h \\cdot I(h)$"
   ]
  },
  {
   "cell_type": "code",
   "execution_count": 3,
   "metadata": {},
   "outputs": [
    {
     "data": {
      "text/latex": [
       "$\\displaystyle s_{h} = - h i_{h} s_{h} tc + s_{0}$"
      ],
      "text/plain": [
       "Eq(s_h, -h*i_h*s_h*tc + s_0)"
      ]
     },
     "execution_count": 3,
     "metadata": {},
     "output_type": "execute_result"
    }
   ],
   "source": [
    "sh_formula = s_0 - tc * h * s_h * i_h\n",
    "sh_equality = Eq(s_h, s_0 - tc * h * s_h * i_h)\n",
    "sh_equality"
   ]
  },
  {
   "cell_type": "code",
   "execution_count": 6,
   "metadata": {},
   "outputs": [
    {
     "data": {
      "text/latex": [
       "$\\displaystyle e_{h} = e_{0} - \\frac{e_{h} h}{lt} + h i_{h} s_{h} tc$"
      ],
      "text/plain": [
       "Eq(e_h, e_0 - e_h*h/lt + h*i_h*s_h*tc)"
      ]
     },
     "execution_count": 6,
     "metadata": {},
     "output_type": "execute_result"
    }
   ],
   "source": [
    "eh_formula = e_0 + tc * h * s_h * i_h - (1/lt) * h * e_h\n",
    "eh_equality = Eq(e_h, e_0 + tc * h * s_h * i_h - (1/lt) * h * e_h)\n",
    "eh_equality"
   ]
  },
  {
   "cell_type": "code",
   "execution_count": 7,
   "metadata": {},
   "outputs": [
    {
     "data": {
      "text/latex": [
       "$\\displaystyle i_{h} = \\frac{e_{h} h}{lt} - \\frac{h i_{h}}{it} + i_{0}$"
      ],
      "text/plain": [
       "Eq(i_h, e_h*h/lt - h*i_h/it + i_0)"
      ]
     },
     "execution_count": 7,
     "metadata": {},
     "output_type": "execute_result"
    }
   ],
   "source": [
    "ih_formula = i_0 + (1/lt) * h * e_h - (1/it) * h * i_h\n",
    "ih_equality = Eq(i_h, i_0 + (1/lt) * h * e_h - (1/it) * h * i_h)\n",
    "ih_equality"
   ]
  },
  {
   "cell_type": "code",
   "execution_count": 8,
   "metadata": {},
   "outputs": [
    {
     "data": {
      "text/latex": [
       "$\\displaystyle r_{h} = \\frac{h i_{h}}{it} + r_{0}$"
      ],
      "text/plain": [
       "Eq(r_h, h*i_h/it + r_0)"
      ]
     },
     "execution_count": 8,
     "metadata": {},
     "output_type": "execute_result"
    }
   ],
   "source": [
    "rh_formula = r_0 + (1/it) * h * i_h\n",
    "rh_equality = Eq(r_h, r_0 + (1/it) * h * i_h)\n",
    "rh_equality"
   ]
  },
  {
   "cell_type": "code",
   "execution_count": null,
   "metadata": {},
   "outputs": [],
   "source": []
  },
  {
   "cell_type": "code",
   "execution_count": null,
   "metadata": {},
   "outputs": [],
   "source": []
  },
  {
   "cell_type": "code",
   "execution_count": 14,
   "metadata": {},
   "outputs": [
    {
     "data": {
      "text/latex": [
       "$\\displaystyle \\frac{s_{0}}{h i_{h} tc + 1}$"
      ],
      "text/plain": [
       "s_0/(h*i_h*tc + 1)"
      ]
     },
     "execution_count": 14,
     "metadata": {},
     "output_type": "execute_result"
    }
   ],
   "source": [
    "# solve s_h (depends on i_h)\n",
    "sh_ih_formula = solve(sh_equality, s_h)[0]\n",
    "sh_ih_formula"
   ]
  },
  {
   "cell_type": "code",
   "execution_count": 15,
   "metadata": {},
   "outputs": [
    {
     "data": {
      "text/latex": [
       "$\\displaystyle \\frac{it \\left(e_{h} h + i_{0} lt\\right)}{lt \\left(h + it\\right)}$"
      ],
      "text/plain": [
       "it*(e_h*h + i_0*lt)/(lt*(h + it))"
      ]
     },
     "execution_count": 15,
     "metadata": {},
     "output_type": "execute_result"
    }
   ],
   "source": [
    "# solve i_h (depends on e_h)\n",
    "ih_eh_formula = solve(ih_equality, i_h)[0]\n",
    "ih_eh_formula"
   ]
  },
  {
   "cell_type": "code",
   "execution_count": 27,
   "metadata": {},
   "outputs": [
    {
     "data": {
      "text/plain": [
       "'lambda i_h: (it*(e_h*h + i_0*lt)/(lt*(h + it)))'"
      ]
     },
     "execution_count": 27,
     "metadata": {},
     "output_type": "execute_result"
    }
   ],
   "source": [
    "lambdastr(i_h, ih_eh_formula)"
   ]
  },
  {
   "cell_type": "code",
   "execution_count": 16,
   "metadata": {},
   "outputs": [
    {
     "data": {
      "text/latex": [
       "$\\displaystyle \\frac{s_{0}}{\\frac{h it tc \\left(e_{h} h + i_{0} lt\\right)}{lt \\left(h + it\\right)} + 1}$"
      ],
      "text/plain": [
       "s_0/(h*it*tc*(e_h*h + i_0*lt)/(lt*(h + it)) + 1)"
      ]
     },
     "execution_count": 16,
     "metadata": {},
     "output_type": "execute_result"
    }
   ],
   "source": [
    "# substitue i_h in the s_h formula\n",
    "sh_eh_formula = sh_ih_formula.subs({i_h: ih_eh_formula})\n",
    "sh_eh_formula"
   ]
  },
  {
   "cell_type": "code",
   "execution_count": 17,
   "metadata": {},
   "outputs": [
    {
     "data": {
      "text/latex": [
       "$\\displaystyle e_{0} - \\frac{e_{h} h}{lt} + s_{0}$"
      ],
      "text/plain": [
       "e_0 - e_h*h/lt + s_0"
      ]
     },
     "execution_count": 17,
     "metadata": {},
     "output_type": "execute_result"
    }
   ],
   "source": [
    "# e_h + s_h\n",
    "eh_plus_sh = eh_formula + sh_formula\n",
    "eh_plus_sh"
   ]
  },
  {
   "cell_type": "code",
   "execution_count": 18,
   "metadata": {},
   "outputs": [
    {
     "data": {
      "text/latex": [
       "$\\displaystyle e_{h} + s_{h} = e_{0} - \\frac{e_{h} h}{lt} + s_{0}$"
      ],
      "text/plain": [
       "Eq(e_h + s_h, e_0 - e_h*h/lt + s_0)"
      ]
     },
     "execution_count": 18,
     "metadata": {},
     "output_type": "execute_result"
    }
   ],
   "source": [
    "# equality\n",
    "eh_sh_equality = Eq(e_h + s_h, eh_plus_sh)\n",
    "eh_sh_equality"
   ]
  },
  {
   "cell_type": "code",
   "execution_count": 21,
   "metadata": {},
   "outputs": [
    {
     "data": {
      "text/latex": [
       "$\\displaystyle e_{h} + \\frac{s_{0}}{\\frac{h it tc \\left(e_{h} h + i_{0} lt\\right)}{lt \\left(h + it\\right)} + 1} = e_{0} - \\frac{e_{h} h}{lt} + s_{0}$"
      ],
      "text/plain": [
       "Eq(e_h + s_0/(h*it*tc*(e_h*h + i_0*lt)/(lt*(h + it)) + 1), e_0 - e_h*h/lt + s_0)"
      ]
     },
     "execution_count": 21,
     "metadata": {},
     "output_type": "execute_result"
    }
   ],
   "source": [
    "# substitue s_h in the formular before\n",
    "only_eh_formula = eh_sh_equality.subs({s_h: sh_eh_formula})\n",
    "only_eh_formula"
   ]
  },
  {
   "cell_type": "code",
   "execution_count": 23,
   "metadata": {},
   "outputs": [],
   "source": [
    "solutions = solve(only_eh_formula, e_h)"
   ]
  },
  {
   "cell_type": "code",
   "execution_count": 24,
   "metadata": {},
   "outputs": [
    {
     "data": {
      "text/plain": [
       "[lt*(e_0*h**2*it*tc - h**2*i_0*it*tc + h**2*it*s_0*tc - h**2 - h*i_0*it*lt*tc - h*it - h*lt - it*lt - sqrt(e_0**2*h**4*it**2*tc**2 + 2*e_0*h**4*i_0*it**2*tc**2 + 2*e_0*h**4*it**2*s_0*tc**2 + 2*e_0*h**4*it*tc + 2*e_0*h**3*i_0*it**2*lt*tc**2 + 2*e_0*h**3*it**2*tc + 2*e_0*h**3*it*lt*tc + 2*e_0*h**2*it**2*lt*tc + h**4*i_0**2*it**2*tc**2 + 2*h**4*i_0*it**2*s_0*tc**2 + 2*h**4*i_0*it*tc + h**4*it**2*s_0**2*tc**2 - 2*h**4*it*s_0*tc + h**4 + 2*h**3*i_0**2*it**2*lt*tc**2 + 2*h**3*i_0*it**2*lt*s_0*tc**2 + 2*h**3*i_0*it**2*tc + 4*h**3*i_0*it*lt*tc - 2*h**3*it**2*s_0*tc - 2*h**3*it*lt*s_0*tc + 2*h**3*it + 2*h**3*lt + h**2*i_0**2*it**2*lt**2*tc**2 + 4*h**2*i_0*it**2*lt*tc + 2*h**2*i_0*it*lt**2*tc - 2*h**2*it**2*lt*s_0*tc + h**2*it**2 + 4*h**2*it*lt + h**2*lt**2 + 2*h*i_0*it**2*lt**2*tc + 2*h*it**2*lt + 2*h*it*lt**2 + it**2*lt**2))/(2*h**2*it*tc*(h + lt)),\n",
       " lt*(e_0*h**2*it*tc - h**2*i_0*it*tc + h**2*it*s_0*tc - h**2 - h*i_0*it*lt*tc - h*it - h*lt - it*lt + sqrt(e_0**2*h**4*it**2*tc**2 + 2*e_0*h**4*i_0*it**2*tc**2 + 2*e_0*h**4*it**2*s_0*tc**2 + 2*e_0*h**4*it*tc + 2*e_0*h**3*i_0*it**2*lt*tc**2 + 2*e_0*h**3*it**2*tc + 2*e_0*h**3*it*lt*tc + 2*e_0*h**2*it**2*lt*tc + h**4*i_0**2*it**2*tc**2 + 2*h**4*i_0*it**2*s_0*tc**2 + 2*h**4*i_0*it*tc + h**4*it**2*s_0**2*tc**2 - 2*h**4*it*s_0*tc + h**4 + 2*h**3*i_0**2*it**2*lt*tc**2 + 2*h**3*i_0*it**2*lt*s_0*tc**2 + 2*h**3*i_0*it**2*tc + 4*h**3*i_0*it*lt*tc - 2*h**3*it**2*s_0*tc - 2*h**3*it*lt*s_0*tc + 2*h**3*it + 2*h**3*lt + h**2*i_0**2*it**2*lt**2*tc**2 + 4*h**2*i_0*it**2*lt*tc + 2*h**2*i_0*it*lt**2*tc - 2*h**2*it**2*lt*s_0*tc + h**2*it**2 + 4*h**2*it*lt + h**2*lt**2 + 2*h*i_0*it**2*lt**2*tc + 2*h*it**2*lt + 2*h*it*lt**2 + it**2*lt**2))/(2*h**2*it*tc*(h + lt))]"
      ]
     },
     "execution_count": 24,
     "metadata": {},
     "output_type": "execute_result"
    }
   ],
   "source": [
    "solutions"
   ]
  },
  {
   "cell_type": "code",
   "execution_count": 31,
   "metadata": {},
   "outputs": [
    {
     "data": {
      "text/plain": [
       "'lambda e_h: ((1/2)*lt*(e_0*h**2*it*tc - h**2*i_0*it*tc + h**2*it*s_0*tc - h**2 - h*i_0*it*lt*tc - h*it - h*lt - it*lt + sqrt(e_0**2*h**4*it**2*tc**2 + 2*e_0*h**4*i_0*it**2*tc**2 + 2*e_0*h**4*it**2*s_0*tc**2 + 2*e_0*h**4*it*tc + 2*e_0*h**3*i_0*it**2*lt*tc**2 + 2*e_0*h**3*it**2*tc + 2*e_0*h**3*it*lt*tc + 2*e_0*h**2*it**2*lt*tc + h**4*i_0**2*it**2*tc**2 + 2*h**4*i_0*it**2*s_0*tc**2 + 2*h**4*i_0*it*tc + h**4*it**2*s_0**2*tc**2 - 2*h**4*it*s_0*tc + h**4 + 2*h**3*i_0**2*it**2*lt*tc**2 + 2*h**3*i_0*it**2*lt*s_0*tc**2 + 2*h**3*i_0*it**2*tc + 4*h**3*i_0*it*lt*tc - 2*h**3*it**2*s_0*tc - 2*h**3*it*lt*s_0*tc + 2*h**3*it + 2*h**3*lt + h**2*i_0**2*it**2*lt**2*tc**2 + 4*h**2*i_0*it**2*lt*tc + 2*h**2*i_0*it*lt**2*tc - 2*h**2*it**2*lt*s_0*tc + h**2*it**2 + 4*h**2*it*lt + h**2*lt**2 + 2*h*i_0*it**2*lt**2*tc + 2*h*it**2*lt + 2*h*it*lt**2 + it**2*lt**2))/(h**2*it*tc*(h + lt)))'"
      ]
     },
     "execution_count": 31,
     "metadata": {},
     "output_type": "execute_result"
    }
   ],
   "source": [
    "lambdastr(e_h, solutions[1])"
   ]
  },
  {
   "cell_type": "code",
   "execution_count": null,
   "metadata": {},
   "outputs": [],
   "source": []
  },
  {
   "cell_type": "code",
   "execution_count": null,
   "metadata": {},
   "outputs": [],
   "source": []
  },
  {
   "cell_type": "code",
   "execution_count": null,
   "metadata": {},
   "outputs": [],
   "source": []
  },
  {
   "cell_type": "markdown",
   "metadata": {},
   "source": [
    "ih_eh_formula = (i_0 + (1/lt) * h * e_h) / (1 + (1/it) * h)\n",
    "ih_eh_formula"
   ]
  },
  {
   "cell_type": "markdown",
   "metadata": {},
   "source": [
    "sh_eh_formula = sh_formula.subs({i_h: ih_formula})\n",
    "sh_eh_formula"
   ]
  },
  {
   "cell_type": "code",
   "execution_count": 11,
   "metadata": {},
   "outputs": [
    {
     "data": {
      "text/latex": [
       "$\\displaystyle e_{0} - \\frac{e_{h} h}{lt} + h i_{h} s_{h} tc$"
      ],
      "text/plain": [
       "e_0 - e_h*h/lt + h*i_h*s_h*tc"
      ]
     },
     "execution_count": 11,
     "metadata": {},
     "output_type": "execute_result"
    }
   ],
   "source": [
    "eh_formula = e_0 + tc * h * s_h * i_h - (1/lt) * h * e_h\n",
    "eh_formula"
   ]
  },
  {
   "cell_type": "code",
   "execution_count": 14,
   "metadata": {},
   "outputs": [
    {
     "data": {
      "text/latex": [
       "$\\displaystyle e_{0} - \\frac{e_{h} h}{lt} + \\frac{h s_{0} tc \\left(\\frac{e_{h} h}{lt} + i_{0}\\right)}{\\left(\\frac{h}{it} + 1\\right) \\left(h i_{h} tc + 1\\right)}$"
      ],
      "text/plain": [
       "e_0 - e_h*h/lt + h*s_0*tc*(e_h*h/lt + i_0)/((h/it + 1)*(h*i_h*tc + 1))"
      ]
     },
     "execution_count": 14,
     "metadata": {},
     "output_type": "execute_result"
    }
   ],
   "source": [
    "eh_formula_subs = eh_formula.subs({s_h: sh_formula, i_h: ih_formula})\n",
    "eh_formula_subs"
   ]
  },
  {
   "cell_type": "code",
   "execution_count": 16,
   "metadata": {},
   "outputs": [
    {
     "data": {
      "text/latex": [
       "$\\displaystyle e_{h} = e_{0} - \\frac{e_{h} h}{lt} + \\frac{h s_{0} tc \\left(\\frac{e_{h} h}{lt} + i_{0}\\right)}{\\left(\\frac{h}{it} + 1\\right) \\left(h i_{h} tc + 1\\right)}$"
      ],
      "text/plain": [
       "Eq(e_h, e_0 - e_h*h/lt + h*s_0*tc*(e_h*h/lt + i_0)/((h/it + 1)*(h*i_h*tc + 1)))"
      ]
     },
     "execution_count": 16,
     "metadata": {},
     "output_type": "execute_result"
    }
   ],
   "source": [
    "eh_equality = Eq(e_h, eh_formula_subs)\n",
    "eh_equality"
   ]
  },
  {
   "cell_type": "code",
   "execution_count": 32,
   "metadata": {},
   "outputs": [],
   "source": [
    "solution = solve(eh_equality, e_h)"
   ]
  },
  {
   "cell_type": "code",
   "execution_count": 34,
   "metadata": {},
   "outputs": [
    {
     "data": {
      "text/latex": [
       "$\\displaystyle \\frac{lt \\left(e_{0} h^{2} i_{h} tc + e_{0} h i_{h} it tc + e_{0} h + e_{0} it + h i_{0} it s_{0} tc\\right)}{h^{3} i_{h} tc + h^{2} i_{h} it tc + h^{2} i_{h} lt tc - h^{2} it s_{0} tc + h^{2} + h i_{h} it lt tc + h it + h lt + it lt}$"
      ],
      "text/plain": [
       "lt*(e_0*h**2*i_h*tc + e_0*h*i_h*it*tc + e_0*h + e_0*it + h*i_0*it*s_0*tc)/(h**3*i_h*tc + h**2*i_h*it*tc + h**2*i_h*lt*tc - h**2*it*s_0*tc + h**2 + h*i_h*it*lt*tc + h*it + h*lt + it*lt)"
      ]
     },
     "execution_count": 34,
     "metadata": {},
     "output_type": "execute_result"
    }
   ],
   "source": [
    "formula = solution[0]\n",
    "formula"
   ]
  },
  {
   "cell_type": "code",
   "execution_count": null,
   "metadata": {},
   "outputs": [],
   "source": []
  },
  {
   "cell_type": "code",
   "execution_count": 28,
   "metadata": {},
   "outputs": [
    {
     "data": {
      "text/latex": [
       "$\\displaystyle \\frac{lt \\left(e_{0} h^{2} i_{h} tc + e_{0} h i_{h} it tc + e_{0} h + e_{0} it + h i_{0} it s_{0} tc\\right)}{h^{3} i_{h} tc + h^{2} i_{h} it tc + h^{2} i_{h} lt tc - h^{2} it s_{0} tc + h^{2} + h i_{h} it lt tc + h it + h lt + it lt}$"
      ],
      "text/plain": [
       "lt*(e_0*h**2*i_h*tc + e_0*h*i_h*it*tc + e_0*h + e_0*it + h*i_0*it*s_0*tc)/(h**3*i_h*tc + h**2*i_h*it*tc + h**2*i_h*lt*tc - h**2*it*s_0*tc + h**2 + h*i_h*it*lt*tc + h*it + h*lt + it*lt)"
      ]
     },
     "execution_count": 28,
     "metadata": {},
     "output_type": "execute_result"
    }
   ],
   "source": [
    "solve(eh_equality, e_h)[0]"
   ]
  },
  {
   "cell_type": "code",
   "execution_count": 37,
   "metadata": {},
   "outputs": [],
   "source": [
    "import numpy\n",
    "import numpy as np"
   ]
  },
  {
   "cell_type": "code",
   "execution_count": 43,
   "metadata": {},
   "outputs": [],
   "source": [
    "func = lambdify(e_h, formula, numpy)"
   ]
  },
  {
   "cell_type": "code",
   "execution_count": 47,
   "metadata": {},
   "outputs": [],
   "source": []
  },
  {
   "cell_type": "code",
   "execution_count": 52,
   "metadata": {},
   "outputs": [
    {
     "data": {
      "text/plain": [
       "'lambda e_h: (lt*(e_0*h**2*i_h*tc + e_0*h*i_h*it*tc + e_0*h + e_0*it + h*i_0*it*s_0*tc)/(h**3*i_h*tc + h**2*i_h*it*tc + h**2*i_h*lt*tc - h**2*it*s_0*tc + h**2 + h*i_h*it*lt*tc + h*it + h*lt + it*lt))'"
      ]
     },
     "execution_count": 52,
     "metadata": {},
     "output_type": "execute_result"
    }
   ],
   "source": [
    "lambdastr(e_h, formula)"
   ]
  },
  {
   "cell_type": "code",
   "execution_count": null,
   "metadata": {},
   "outputs": [],
   "source": []
  }
 ],
 "metadata": {
  "kernelspec": {
   "display_name": "Python 3",
   "language": "python",
   "name": "python3"
  },
  "language_info": {
   "codemirror_mode": {
    "name": "ipython",
    "version": 3
   },
   "file_extension": ".py",
   "mimetype": "text/x-python",
   "name": "python",
   "nbconvert_exporter": "python",
   "pygments_lexer": "ipython3",
   "version": "3.7.3"
  }
 },
 "nbformat": 4,
 "nbformat_minor": 2
}
