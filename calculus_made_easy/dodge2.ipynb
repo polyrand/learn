{
 "cells": [
  {
   "cell_type": "code",
   "execution_count": 73,
   "metadata": {},
   "outputs": [],
   "source": [
    "from sympy import symbols, Derivative, apart, solve, Eq, sqrt\n"
   ]
  },
  {
   "cell_type": "markdown",
   "metadata": {},
   "source": [
    "# [Partial fractions](http://calculusmadeeasy.org/13.html)"
   ]
  },
  {
   "cell_type": "markdown",
   "metadata": {},
   "source": [
    "We have seen that when we differentiate a fraction we have to perform a rather complicated operation; and, if the fraction is not itself a simple one, the result is bound to be a complicated expression. If we could split the fraction into two or more simpler fractions such that their sum is equivalent to the original fraction, we could then proceed by differentiating each of these simpler expressions. And the result of differentiating would be the sum of two (or more) derivatives, each one of which is relatively simple; while the final expression, though of course it will be the same as that which could be obtained without resorting to this dodge, is thus obtained with much less effort and appears in a simplified form."
   ]
  },
  {
   "cell_type": "markdown",
   "metadata": {},
   "source": [
    "\n",
    "Suppose we wish to go back from $\\dfrac{3x+1}{x^2-1}$ to the\n",
    "components which we know are $\\dfrac{1}{x+1}$ and $\\dfrac{2}{x-1}$"
   ]
  },
  {
   "cell_type": "code",
   "execution_count": 83,
   "metadata": {},
   "outputs": [],
   "source": [
    "x, y = symbols('x y', isreal=True)"
   ]
  },
  {
   "cell_type": "code",
   "execution_count": 6,
   "metadata": {},
   "outputs": [
    {
     "data": {
      "text/latex": [
       "$\\displaystyle \\frac{3 x + 1}{x^{2} - 1}$"
      ],
      "text/plain": [
       "(3*x + 1)/(x**2 - 1)"
      ]
     },
     "execution_count": 6,
     "metadata": {},
     "output_type": "execute_result"
    }
   ],
   "source": [
    "expr = (3*x + 1) / (x**2 - 1)\n",
    "expr"
   ]
  },
  {
   "cell_type": "code",
   "execution_count": 7,
   "metadata": {},
   "outputs": [
    {
     "data": {
      "text/latex": [
       "$\\displaystyle \\frac{1}{x + 1} + \\frac{2}{x - 1}$"
      ],
      "text/plain": [
       "1/(x + 1) + 2/(x - 1)"
      ]
     },
     "execution_count": 7,
     "metadata": {},
     "output_type": "execute_result"
    }
   ],
   "source": [
    "apart(expr)"
   ]
  },
  {
   "cell_type": "markdown",
   "metadata": {},
   "source": [
    "We can do it with more complex functions:\n",
    "\n",
    "$\\frac{4x^2 + 2x - 14}{x^3 + 3x^2 - x - 3} = \\frac{3}{x+1} - \\frac{1}{x-1} + \\frac{2}{x+3}$\n"
   ]
  },
  {
   "cell_type": "code",
   "execution_count": 58,
   "metadata": {},
   "outputs": [
    {
     "data": {
      "text/latex": [
       "$\\displaystyle \\frac{4 x^{2} + 2 x - 14}{x^{3} + 3 x^{2} - x - 3}$"
      ],
      "text/plain": [
       "(4*x**2 + 2*x - 14)/(x**3 + 3*x**2 - x - 3)"
      ]
     },
     "execution_count": 58,
     "metadata": {},
     "output_type": "execute_result"
    }
   ],
   "source": [
    "expr = (4*x**2 + 2*x - 14) / (x**3 + 3*x**2 - x - 3)\n",
    "deriv_1 = Derivative(expr, x)\n",
    "expr"
   ]
  },
  {
   "cell_type": "code",
   "execution_count": 59,
   "metadata": {},
   "outputs": [
    {
     "data": {
      "text/latex": [
       "$\\displaystyle \\frac{2}{x + 3} + \\frac{3}{x + 1} - \\frac{1}{x - 1}$"
      ],
      "text/plain": [
       "2/(x + 3) + 3/(x + 1) - 1/(x - 1)"
      ]
     },
     "execution_count": 59,
     "metadata": {},
     "output_type": "execute_result"
    }
   ],
   "source": [
    "partial = apart(expr)\n",
    "deriv_partial = Derivative(partial, x)\n",
    "partial"
   ]
  },
  {
   "cell_type": "markdown",
   "metadata": {},
   "source": [
    "And check tha both are the same, in this case when evaluated to $x=0$ adn $x=1$."
   ]
  },
  {
   "cell_type": "code",
   "execution_count": 70,
   "metadata": {},
   "outputs": [
    {
     "data": {
      "text/latex": [
       "$\\displaystyle \\frac{d}{d x} \\frac{4 x^{2} + 2 x - 14}{x^{3} + 3 x^{2} - x - 3} = \\frac{d}{d x} \\left(\\frac{2}{x + 3} + \\frac{3}{x + 1} - \\frac{1}{x - 1}\\right)$"
      ],
      "text/plain": [
       "Eq(Derivative((4*x**2 + 2*x - 14)/(x**3 + 3*x**2 - x - 3), x), Derivative(2/(x + 3) + 3/(x + 1) - 1/(x - 1), x))"
      ]
     },
     "execution_count": 70,
     "metadata": {},
     "output_type": "execute_result"
    }
   ],
   "source": [
    "Eq(deriv_1, deriv_partial)"
   ]
  },
  {
   "cell_type": "code",
   "execution_count": 71,
   "metadata": {},
   "outputs": [
    {
     "data": {
      "text/latex": [
       "$\\displaystyle \\text{True}$"
      ],
      "text/plain": [
       "True"
      ]
     },
     "execution_count": 71,
     "metadata": {},
     "output_type": "execute_result"
    }
   ],
   "source": [
    "Eq(0, 0)"
   ]
  },
  {
   "cell_type": "code",
   "execution_count": 72,
   "metadata": {},
   "outputs": [
    {
     "data": {
      "text/latex": [
       "$\\displaystyle \\text{True}$"
      ],
      "text/plain": [
       "True"
      ]
     },
     "execution_count": 72,
     "metadata": {},
     "output_type": "execute_result"
    }
   ],
   "source": [
    "Eq(1, 1)"
   ]
  },
  {
   "cell_type": "markdown",
   "metadata": {},
   "source": [
    "Now we can solve the derivative, all the results are stored in a list"
   ]
  },
  {
   "cell_type": "code",
   "execution_count": 62,
   "metadata": {},
   "outputs": [],
   "source": [
    "original_solutions = solve(diff(expr), x)\n",
    "partial_solutions = solve(diff(partial), x)"
   ]
  },
  {
   "cell_type": "markdown",
   "metadata": {},
   "source": [
    "And check both results are the same."
   ]
  },
  {
   "cell_type": "code",
   "execution_count": 65,
   "metadata": {},
   "outputs": [
    {
     "data": {
      "text/plain": [
       "True"
      ]
     },
     "execution_count": 65,
     "metadata": {},
     "output_type": "execute_result"
    }
   ],
   "source": [
    "original_solutions[0] == partial_solutions[0]"
   ]
  },
  {
   "cell_type": "code",
   "execution_count": 67,
   "metadata": {},
   "outputs": [
    {
     "name": "stdout",
     "output_type": "stream",
     "text": [
      "True\n"
     ]
    },
    {
     "data": {
      "text/latex": [
       "$\\displaystyle 3.05335353504488$"
      ],
      "text/plain": [
       "3.05335353504488"
      ]
     },
     "execution_count": 67,
     "metadata": {},
     "output_type": "execute_result"
    }
   ],
   "source": [
    "print(original_solutions[0].evalf() == partial_solutions[0].evalf())\n",
    "original_solutions[0].evalf()"
   ]
  },
  {
   "cell_type": "code",
   "execution_count": 68,
   "metadata": {},
   "outputs": [
    {
     "name": "stdout",
     "output_type": "stream",
     "text": [
      "True\n",
      "True\n",
      "True\n",
      "True\n"
     ]
    }
   ],
   "source": [
    "for orig, part in zip(solve(diff(expr, x), x), solve(diff(partial, x), x)):\n",
    "    if orig.evalf() == part.evalf():\n",
    "        print(True)"
   ]
  },
  {
   "cell_type": "markdown",
   "metadata": {},
   "source": [
    "# Differential of an inverse function"
   ]
  },
  {
   "cell_type": "markdown",
   "metadata": {},
   "source": [
    "Consider the function $y = 3x$; it can be\n",
    "expressed in the form $x = \\dfrac{y}{3}$; this latter form is called\n",
    "the **inverse function** to the one originally given.\n",
    "\n",
    "If $y = 3x$, $\\dfrac{dy}{dx} = 3$; if $x=\\dfrac{y}{3}$, $\\dfrac{dx}{dy} = \\dfrac{1}{3}$, and we see that\n",
    "$\n",
    "\\frac{dy}{dx} = \\frac{1}{\\dfrac{dx}{dy}}\\quad \\text{or}\\quad\n",
    "\\frac{dy}{dx} × \\frac{dx}{dy} = 1.\n",
    "$\n",
    "\n",
    "Consider $y= 4x^2$, $\\dfrac{dy}{dx} = 8x$; the inverse function is\n",
    "$\n",
    "x = \\frac{y^{\\frac{1}{2}}}{2},\\quad \\text{and}\\quad\n",
    "\\frac{dx}{dy} = \\frac{1}{4\\sqrt{y}} = \\frac{1}{4 \\times 2x} = \\frac{1}{8x}\n",
    "$\n",
    "\n",
    "\n",
    "Here again it can be shown $\\frac{dy}{dx}\\times\\frac{dx}{dy} = 1$\n",
    "\n",
    "\n",
    "It can be shown that for all functions which can be\n",
    "put into the inverse form, one can always write\n",
    "$\n",
    "\\frac{dy}{dx} \\times \\frac{dx}{dy} = 1\\quad \\text{or}\\quad\n",
    "\\frac{dy}{dx} = \\frac{1}{\\dfrac{dx}{dy}}\n",
    "$\n",
    "\n",
    "It follows that, being given a function, if it be\n",
    "easier to differentiate the inverse function, this may\n",
    "be done, and the reciprocal of the differential coefficient\n",
    "of the inverse function gives the differential coefficient\n",
    "of the given function itself."
   ]
  },
  {
   "cell_type": "code",
   "execution_count": 99,
   "metadata": {},
   "outputs": [],
   "source": [
    "x, y = symbols('x y')"
   ]
  },
  {
   "cell_type": "code",
   "execution_count": 100,
   "metadata": {},
   "outputs": [
    {
     "data": {
      "text/latex": [
       "$\\displaystyle \\sqrt{-1 + \\frac{3}{x}}$"
      ],
      "text/plain": [
       "sqrt(-1 + 3/x)"
      ]
     },
     "execution_count": 100,
     "metadata": {},
     "output_type": "execute_result"
    }
   ],
   "source": [
    "expr = sqrt((3/x) - 1)\n",
    "deriv_expr = Derivative(expr, x)\n",
    "expr"
   ]
  },
  {
   "cell_type": "markdown",
   "metadata": {},
   "source": [
    "The inverse is"
   ]
  },
  {
   "cell_type": "code",
   "execution_count": 101,
   "metadata": {},
   "outputs": [
    {
     "data": {
      "text/latex": [
       "$\\displaystyle \\frac{3}{y^{2} + 1}$"
      ],
      "text/plain": [
       "3/(y**2 + 1)"
      ]
     },
     "execution_count": 101,
     "metadata": {},
     "output_type": "execute_result"
    }
   ],
   "source": [
    "inverse = 3 / (1 + y**2)\n",
    "deriv_inverse = Derivative(inverse, y)\n",
    "inverse"
   ]
  },
  {
   "cell_type": "markdown",
   "metadata": {},
   "source": [
    "So the derivative of the first one with respecto to $x$ is the same as the inverse of derivative of the second one with respect to $y$."
   ]
  },
  {
   "cell_type": "code",
   "execution_count": 102,
   "metadata": {},
   "outputs": [
    {
     "data": {
      "text/latex": [
       "$\\displaystyle \\frac{d}{d x} \\sqrt{-1 + \\frac{3}{x}} = \\frac{1}{\\frac{d}{d y} \\frac{3}{y^{2} + 1}}$"
      ],
      "text/plain": [
       "Eq(Derivative(sqrt(-1 + 3/x), x), 1/Derivative(3/(y**2 + 1), y))"
      ]
     },
     "execution_count": 102,
     "metadata": {},
     "output_type": "execute_result"
    }
   ],
   "source": [
    "Eq(deriv_expr, 1/deriv_inverse)"
   ]
  },
  {
   "cell_type": "markdown",
   "metadata": {},
   "source": [
    "The derivative of the original function is:"
   ]
  },
  {
   "cell_type": "code",
   "execution_count": 125,
   "metadata": {},
   "outputs": [
    {
     "data": {
      "text/latex": [
       "$\\displaystyle - \\frac{3}{2 x^{2} \\sqrt{-1 + \\frac{3}{x}}}$"
      ],
      "text/plain": [
       "-3/(2*x**2*sqrt(-1 + 3/x))"
      ]
     },
     "execution_count": 125,
     "metadata": {},
     "output_type": "execute_result"
    }
   ],
   "source": [
    "expr_diff = diff(expr)\n",
    "expr_diff"
   ]
  },
  {
   "cell_type": "markdown",
   "metadata": {},
   "source": [
    "The derivative of the inverse function is:"
   ]
  },
  {
   "cell_type": "code",
   "execution_count": 117,
   "metadata": {},
   "outputs": [
    {
     "data": {
      "text/latex": [
       "$\\displaystyle - \\frac{6 y}{\\left(y^{2} + 1\\right)^{2}}$"
      ],
      "text/plain": [
       "-6*y/(y**2 + 1)**2"
      ]
     },
     "execution_count": 117,
     "metadata": {},
     "output_type": "execute_result"
    }
   ],
   "source": [
    "diff(inverse, y)"
   ]
  },
  {
   "cell_type": "markdown",
   "metadata": {},
   "source": [
    "And its inverse (the inverse of the derivative of the inverse function (╯°□°）╯︵ ┻━┻   ):"
   ]
  },
  {
   "cell_type": "code",
   "execution_count": 124,
   "metadata": {},
   "outputs": [
    {
     "data": {
      "text/latex": [
       "$\\displaystyle - \\frac{\\left(y^{2} + 1\\right)^{2}}{6 y}$"
      ],
      "text/plain": [
       "-(y**2 + 1)**2/(6*y)"
      ]
     },
     "execution_count": 124,
     "metadata": {},
     "output_type": "execute_result"
    }
   ],
   "source": [
    "inverse_diff_inverse = 1 / diff(inverse, y)\n",
    "inverse_diff_inverse"
   ]
  },
  {
   "cell_type": "markdown",
   "metadata": {},
   "source": [
    "Now lets check both are the same"
   ]
  },
  {
   "cell_type": "code",
   "execution_count": 126,
   "metadata": {},
   "outputs": [
    {
     "data": {
      "text/latex": [
       "$\\displaystyle - \\frac{3}{2 x^{2} \\sqrt{-1 + \\frac{3}{x}}} = - \\frac{\\left(y^{2} + 1\\right)^{2}}{6 y}$"
      ],
      "text/plain": [
       "Eq(-3/(2*x**2*sqrt(-1 + 3/x)), -(y**2 + 1)**2/(6*y))"
      ]
     },
     "execution_count": 126,
     "metadata": {},
     "output_type": "execute_result"
    }
   ],
   "source": [
    "Eq(expr_diff, inverse_diff_inverse)"
   ]
  },
  {
   "cell_type": "markdown",
   "metadata": {},
   "source": [
    "Both are the same"
   ]
  },
  {
   "cell_type": "code",
   "execution_count": 130,
   "metadata": {},
   "outputs": [
    {
     "data": {
      "text/latex": [
       "$\\displaystyle \\text{True}$"
      ],
      "text/plain": [
       "True"
      ]
     },
     "execution_count": 130,
     "metadata": {},
     "output_type": "execute_result"
    }
   ],
   "source": [
    "Eq(1,1)"
   ]
  },
  {
   "cell_type": "code",
   "execution_count": null,
   "metadata": {},
   "outputs": [],
   "source": []
  }
 ],
 "metadata": {
  "kernelspec": {
   "display_name": "Python 3",
   "language": "python",
   "name": "python3"
  },
  "language_info": {
   "codemirror_mode": {
    "name": "ipython",
    "version": 3
   },
   "file_extension": ".py",
   "mimetype": "text/x-python",
   "name": "python",
   "nbconvert_exporter": "python",
   "pygments_lexer": "ipython3",
   "version": "3.7.3"
  }
 },
 "nbformat": 4,
 "nbformat_minor": 2
}
