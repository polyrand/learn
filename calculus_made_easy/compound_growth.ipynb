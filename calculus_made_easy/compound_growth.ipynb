{
 "cells": [
  {
   "cell_type": "code",
   "execution_count": 1,
   "metadata": {},
   "outputs": [],
   "source": [
    "from sympy import symbols, Derivative, apart, solve, Eq, sqrt\n",
    "from sympy import *\n",
    "from math import e"
   ]
  },
  {
   "cell_type": "markdown",
   "metadata": {},
   "source": [
    "# [On true compound interest and the law of organic growth](http://calculusmadeeasy.org/14.html)"
   ]
  },
  {
   "cell_type": "markdown",
   "metadata": {},
   "source": [
    "This is explained very clearly in [Better Explained](https://betterexplained.com/) by Kalid Azad:  [here](https://betterexplained.com/articles/an-intuitive-guide-to-exponential-functions-e/) and [here](https://betterexplained.com/articles/think-with-exponents/)."
   ]
  },
  {
   "cell_type": "code",
   "execution_count": 2,
   "metadata": {},
   "outputs": [],
   "source": [
    "n = symbols('n')"
   ]
  },
  {
   "cell_type": "code",
   "execution_count": 3,
   "metadata": {},
   "outputs": [
    {
     "data": {
      "text/latex": [
       "$\\displaystyle \\left(1 + \\frac{1}{n}\\right)^{n}$"
      ],
      "text/plain": [
       "(1 + 1/n)**n"
      ]
     },
     "execution_count": 3,
     "metadata": {},
     "output_type": "execute_result"
    }
   ],
   "source": [
    "expr = (1 + 1/n)**n\n",
    "expr"
   ]
  },
  {
   "cell_type": "markdown",
   "metadata": {},
   "source": [
    "Now we will evaluate the function above for different (increasing) values of `n`:"
   ]
  },
  {
   "cell_type": "code",
   "execution_count": 4,
   "metadata": {},
   "outputs": [
    {
     "name": "stdout",
     "output_type": "stream",
     "text": [
      "1.00000000000000\n",
      "2.59374246010000\n",
      "2.70481382942153\n",
      "2.71692393223589\n",
      "2.71814592682522\n",
      "2.71826823717449\n",
      "2.71828046931938\n"
     ]
    }
   ],
   "source": [
    "for i in [0, 10, 100, 1000, 10000, 100000, 1000000]:\n",
    "    print(expr.evalf(subs={n: i}))"
   ]
  },
  {
   "cell_type": "markdown",
   "metadata": {},
   "source": [
    "We will avail ourselves of the binomial\n",
    "theorem, and expand the expression $\\left(1 + \\dfrac{1}{n}\\right)^n$ in that\n",
    "well-known way.\n",
    "\n",
    "The binomial theoremgives the rule that:  \n",
    "\n",
    "$ (a + b)^n = a^n + n\\dfrac{a^{n-1}b}{1!} + n(n - 1) \\dfrac{a^{n-2} b^2}{2!}\n",
    "   + n(n -1)(n - 2) \\dfrac{a^{n-3} b^3}{3!}\\dots$ etc\n"
   ]
  },
  {
   "cell_type": "markdown",
   "metadata": {},
   "source": [
    "If $a = 1$ , $b = 1/n$ and $n$ becomes inifintely large (so we can asume $n-1 , n-2, n-3$ will all be sensibly equal to $n$, the series becomes:\n",
    "\n",
    "$\\epsilon = 1 + 1 + \\dfrac{1}{2!} + \\dfrac{1}{3!} + \\dfrac{1}{4!} + \\dfrac{1}{5!} + \\dots$ etc"
   ]
  },
  {
   "cell_type": "markdown",
   "metadata": {},
   "source": [
    "## Exponential Series\n",
    "\n",
    "If we expand the expression to $\\left(1 + \\dfrac{1}{n}\\right)^{nx}$ as $n$ becomes infinitely great, the simplification becomes:\n",
    "\n",
    "$\\epsilon^x = 1 + x + \\dfrac{x^2}{2!} + \\dfrac{x^3}{3!} + \\dfrac{x^4}{4!} + \\dfrac{x^5}{5!} + \\dots$ etc.  \n",
    "\n",
    "This is called *the exponential series*."
   ]
  },
  {
   "cell_type": "markdown",
   "metadata": {},
   "source": [
    "If we differentiate it:  \n",
    "$\\epsilon^x = 1 + x + \\dfrac{x^2}{1 \\cdot 2} + \\dfrac{x^3}{1 \\cdot 2 \\cdot 3} + \\dfrac{x^4}{1 \\cdot 2 \\cdot 3 \\cdot 4} + \\dots$ etc, which is the same as the original series."
   ]
  },
  {
   "cell_type": "markdown",
   "metadata": {},
   "source": [
    "from mpmath import *\n",
    "mp.dps = 50; mp.pretty = True\n",
    "+e"
   ]
  },
  {
   "cell_type": "markdown",
   "metadata": {},
   "source": [
    "## The Logarithmic Curve\n",
    "\n",
    "Lets consider the equation $bp^x$, we can see that for different values of $x$:  \n",
    "$x=1, y=bp$; $x=2, y=bp^2$; $x=3, y=bp^3$; and so on... In this case, $p$ is the numerical value of the ratio between the hight of any ordinate (value of $x$) and the height of the next value of $x$. So if $p=\\dfrac{6}{5}$, each ordinate (value of $x$) will be $\\dfrac{6}{5}$ as high as the one before."
   ]
  },
  {
   "cell_type": "code",
   "execution_count": 5,
   "metadata": {},
   "outputs": [],
   "source": [
    "import matplotlib.pyplot as plt\n",
    "import numpy as np\n",
    "import matplotlib.cm as cm"
   ]
  },
  {
   "cell_type": "code",
   "execution_count": 6,
   "metadata": {},
   "outputs": [],
   "source": [
    "x, y, p, b, n = symbols('x y p b n', isreal=True)"
   ]
  },
  {
   "cell_type": "code",
   "execution_count": 7,
   "metadata": {},
   "outputs": [
    {
     "data": {
      "text/latex": [
       "$\\displaystyle b p^{x}$"
      ],
      "text/plain": [
       "b*p**x"
      ]
     },
     "execution_count": 7,
     "metadata": {},
     "output_type": "execute_result"
    }
   ],
   "source": [
    "expr = b*p**x\n",
    "expr"
   ]
  },
  {
   "cell_type": "code",
   "execution_count": 8,
   "metadata": {},
   "outputs": [],
   "source": [
    "# make a list with the vales of x / ordinates\n",
    "x_values = np.linspace(1, 10, 10)\n",
    "\n",
    "# make a list with the corresponding values of y (evaluate the function substituting x)\n",
    "# p --> 6/5  = ratio of change in height\n",
    "# b --> 2  = initial height\n",
    "y_values = [expr.evalf(subs={p: 6/5, b: 2, x: i}) for i in np.linspace(1, 10, 10)]   "
   ]
  },
  {
   "cell_type": "code",
   "execution_count": 9,
   "metadata": {},
   "outputs": [
    {
     "data": {
      "text/plain": [
       "<BarContainer object of 10 artists>"
      ]
     },
     "execution_count": 9,
     "metadata": {},
     "output_type": "execute_result"
    },
    {
     "data": {
      "image/png": "[encoded data removed]",
      "text/plain": [
       "<Figure size 864x720 with 1 Axes>"
      ]
     },
     "metadata": {},
     "output_type": "display_data"
    }
   ],
   "source": [
    "plt.style.use('fivethirtyeight')\n",
    "\n",
    "# we will use ax1 instead of the usual ax so as to not interfere with sympy symbols\n",
    "fig, ax = plt.subplots(figsize=(12, 10))\n",
    "\n",
    "ax.plot(x_values, y_values, label='Line', marker='o')\n",
    "ax.bar(x_values, y_values, 1, color='wheat', edgecolor='#8B7E66', linewidth=4.0, align='edge')"
   ]
  },
  {
   "cell_type": "markdown",
   "metadata": {},
   "source": [
    "If two successive vales of $x$ are related together in a constant ratio (liek in our example), thei logarithms will have a constant difference, so that, if we plot our new curve making the values of $y = log_{\\epsilon}y$, the new graph will be a straight line."
   ]
  },
  {
   "cell_type": "code",
   "execution_count": 10,
   "metadata": {},
   "outputs": [
    {
     "data": {
      "text/plain": [
       "<BarContainer object of 10 artists>"
      ]
     },
     "execution_count": 10,
     "metadata": {},
     "output_type": "execute_result"
    },
    {
     "data": {
      "image/png": "[encoded data removed]",
      "text/plain": [
       "<Figure size 864x720 with 1 Axes>"
      ]
     },
     "metadata": {},
     "output_type": "display_data"
    }
   ],
   "source": [
    "y_values_log = np.log(np.array(y_values, dtype=np.float))\n",
    "\n",
    "fig, ax = plt.subplots(figsize=(12, 10))\n",
    "\n",
    "ax.plot(x_values, y_values_log, label='Line', marker='o')\n",
    "ax.bar(x_values, y_values_log, 1, color='wheat', edgecolor='#8B7E66', linewidth=4.0, align='edge')"
   ]
  },
  {
   "cell_type": "markdown",
   "metadata": {},
   "source": [
    "In fact, if we take the $log$ of the original equation ($y=bp^x$):\n",
    "\n",
    "$log_{\\epsilon}y = log_{\\epsilon}b + x \\cdot log_{\\epsilon}p$  \n",
    "  \n",
    "$log_{\\epsilon}y - log_{\\epsilon}b = x \\cdot log_{\\epsilon}p$  \n",
    "  \n",
    "Now, since $log_{\\epsilon}p$ is just a number, we can write it as $log_{\\epsilon}p = a$, and ou last equation becomes:\n",
    "\n",
    "$log_{\\epsilon}\\dfrac{y}{b} = ax$  \n",
    "  \n",
    "$y = b\\epsilon^{ax}$\n"
   ]
  },
  {
   "cell_type": "markdown",
   "metadata": {},
   "source": [
    "## [The Die-away Curve](http://calculusmadeeasy.org/14b.html)\n",
    "\n",
    "For the equation above, if $p$ was a proper fraction ($p<1$), the equation of the curve would be:  \n",
    "  \n",
    "  $y=b\\epsilon^{-ax}$  \n",
    "   \n",
    "That equation represents many physical processes in which something is *gradaully dying away*. For example the cooling of a hot body (Newton's law of cooling): $\\theta_t = \\theta_o\\epsilon^{-at}$; $\\epsilon^{-at}$ serves as a *die-away factor*."
   ]
  },
  {
   "cell_type": "code",
   "execution_count": 11,
   "metadata": {},
   "outputs": [],
   "source": [
    "a = symbols('a')"
   ]
  },
  {
   "cell_type": "code",
   "execution_count": 12,
   "metadata": {},
   "outputs": [
    {
     "data": {
      "text/latex": [
       "$\\displaystyle b e^{- a x}$"
      ],
      "text/plain": [
       "b*exp(-a*x)"
      ]
     },
     "execution_count": 12,
     "metadata": {},
     "output_type": "execute_result"
    }
   ],
   "source": [
    "expr = b * exp(-a*x)\n",
    "expr"
   ]
  },
  {
   "cell_type": "code",
   "execution_count": 13,
   "metadata": {},
   "outputs": [
    {
     "data": {
      "text/latex": [
       "$\\displaystyle - a b e^{- a x}$"
      ],
      "text/plain": [
       "-a*b*exp(-a*x)"
      ]
     },
     "execution_count": 13,
     "metadata": {},
     "output_type": "execute_result"
    }
   ],
   "source": [
    "diff(expr, x)"
   ]
  },
  {
   "cell_type": "markdown",
   "metadata": {},
   "source": [
    "$-ab\\epsilon^{-ax} = -ay$"
   ]
  },
  {
   "cell_type": "markdown",
   "metadata": {},
   "source": [
    "*The Time-constant.* In the expression for the “die-away factor” $\\epsilon^{−at}$, the quantity a is the reciprocal of another quantity known as *“the time-constant,”* which we may denote by the symbol $T$. Then the die-away factor will be written $\\epsilon^{-\\frac{t}{T}}$; and it will be seen, by making $t = T$ that the meaning of $T$ $(\\text{or of} \\dfrac{1}{a})$ is that this is the length of time which it takes a for the original quantity (called $\\theta_0$ or $Q_0$ in the preceding instances) to die away $\\dfrac{1}{\\epsilon}$th part, that is to $0.3678$, of its original value."
   ]
  },
  {
   "cell_type": "markdown",
   "metadata": {},
   "source": [
    "### Example\n",
    "\n",
    "The damping on a telephone line can be ascertained from the relation $i = i_0\\epsilon^{−\\beta l}$ , where $i$ is the strength, after $t$ seconds, of a telephonic current of initial strength $i_0$ ; $l$ is the length of the line in kilometres, and $\\beta$ is a constant. For the Franco-English submarine cable laid in 1910, $\\beta = 0.0114$. Find the damping at the end of the cable (40 kilometres), and the length along which $i$ is still $8%$ of the original current (limiting value of very good audition)."
   ]
  },
  {
   "cell_type": "code",
   "execution_count": 14,
   "metadata": {},
   "outputs": [],
   "source": [
    "# i will represent i_0\n",
    "i, b, l = symbols('i b l', isreal=True)"
   ]
  },
  {
   "cell_type": "code",
   "execution_count": 15,
   "metadata": {},
   "outputs": [
    {
     "data": {
      "text/latex": [
       "$\\displaystyle i e^{- b l}$"
      ],
      "text/plain": [
       "i*exp(-b*l)"
      ]
     },
     "execution_count": 15,
     "metadata": {},
     "output_type": "execute_result"
    }
   ],
   "source": [
    "expr = i*exp(-b*l)\n",
    "expr"
   ]
  },
  {
   "cell_type": "markdown",
   "metadata": {},
   "source": [
    "Damping at the end of the cable:"
   ]
  },
  {
   "cell_type": "code",
   "execution_count": 16,
   "metadata": {},
   "outputs": [
    {
     "data": {
      "text/latex": [
       "$\\displaystyle 0.633813837098549 i$"
      ],
      "text/plain": [
       "0.633813837098549*i"
      ]
     },
     "execution_count": 16,
     "metadata": {},
     "output_type": "execute_result"
    }
   ],
   "source": [
    "expr.subs({l: 40, b: 0.0114})"
   ]
  },
  {
   "cell_type": "markdown",
   "metadata": {},
   "source": [
    "So at the end of the cable the damping will be $0.6338$ ($63.4%$) of $i_0$"
   ]
  },
  {
   "cell_type": "markdown",
   "metadata": {},
   "source": [
    "Now for the second part of the exercise, we are looking for the length where $i = 0.08i_0$. So we can represent the equation as:  \n",
    "\n",
    "$8 = 100 \\cdot \\epsilon^{-\\beta l}$  \n",
    "\n",
    "$0.08 = \\epsilon^{-\\beta l}$\n",
    "\n",
    "$\\ln{0.08} = -\\beta l$\n",
    "\n",
    "$l = \\frac{\\ln0.08}{-\\beta}$"
   ]
  },
  {
   "cell_type": "code",
   "execution_count": 27,
   "metadata": {},
   "outputs": [],
   "source": [
    "tosolve = log(0.08) / -b"
   ]
  },
  {
   "cell_type": "code",
   "execution_count": 29,
   "metadata": {},
   "outputs": [
    {
     "data": {
      "text/latex": [
       "$\\displaystyle 221.555144237566$"
      ],
      "text/plain": [
       "221.555144237566"
      ]
     },
     "execution_count": 29,
     "metadata": {},
     "output_type": "execute_result"
    }
   ],
   "source": [
    "tosolve.subs({b: 0.0114})"
   ]
  },
  {
   "cell_type": "markdown",
   "metadata": {},
   "source": [
    "The length at which $i = 0.08i_0$ is 221.5km"
   ]
  },
  {
   "cell_type": "code",
   "execution_count": null,
   "metadata": {},
   "outputs": [],
   "source": []
  },
  {
   "cell_type": "code",
   "execution_count": null,
   "metadata": {},
   "outputs": [],
   "source": []
  },
  {
   "cell_type": "code",
   "execution_count": null,
   "metadata": {},
   "outputs": [],
   "source": []
  },
  {
   "cell_type": "markdown",
   "metadata": {},
   "source": [
    "(Exercise) Finde the maxima of the next function:"
   ]
  },
  {
   "cell_type": "code",
   "execution_count": 18,
   "metadata": {},
   "outputs": [],
   "source": [
    "from sympy import ln"
   ]
  },
  {
   "cell_type": "code",
   "execution_count": 19,
   "metadata": {},
   "outputs": [
    {
     "data": {
      "text/latex": [
       "$\\displaystyle x^{3} - \\log{\\left(x \\right)}$"
      ],
      "text/plain": [
       "x**3 - log(x)"
      ]
     },
     "execution_count": 19,
     "metadata": {},
     "output_type": "execute_result"
    }
   ],
   "source": [
    "expr = x**3 - ln(x)\n",
    "expr"
   ]
  },
  {
   "cell_type": "code",
   "execution_count": 20,
   "metadata": {},
   "outputs": [
    {
     "data": {
      "text/latex": [
       "$\\displaystyle 3 x^{2} - \\frac{1}{x}$"
      ],
      "text/plain": [
       "3*x**2 - 1/x"
      ]
     },
     "execution_count": 20,
     "metadata": {},
     "output_type": "execute_result"
    }
   ],
   "source": [
    "diff(expr, x)"
   ]
  },
  {
   "cell_type": "code",
   "execution_count": 21,
   "metadata": {},
   "outputs": [
    {
     "data": {
      "text/plain": [
       "[0.693361274350635,\n",
       " -0.346680637175317 - 0.600468477588001*I,\n",
       " -0.346680637175317 + 0.600468477588001*I]"
      ]
     },
     "execution_count": 21,
     "metadata": {},
     "output_type": "execute_result"
    }
   ],
   "source": [
    "[sol.evalf() for sol in solve(diff(expr))]"
   ]
  },
  {
   "cell_type": "code",
   "execution_count": null,
   "metadata": {},
   "outputs": [],
   "source": []
  }
 ],
 "metadata": {
  "kernelspec": {
   "display_name": "Python 3",
   "language": "python",
   "name": "python3"
  },
  "language_info": {
   "codemirror_mode": {
    "name": "ipython",
    "version": 3
   },
   "file_extension": ".py",
   "mimetype": "text/x-python",
   "name": "python",
   "nbconvert_exporter": "python",
   "pygments_lexer": "ipython3",
   "version": "3.7.3"
  }
 },
 "nbformat": 4,
 "nbformat_minor": 2
}
