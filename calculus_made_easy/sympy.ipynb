{
 "cells": [
  {
   "cell_type": "code",
   "execution_count": 1,
   "metadata": {},
   "outputs": [],
   "source": [
    "from sympy import *"
   ]
  },
  {
   "cell_type": "code",
   "execution_count": 3,
   "metadata": {},
   "outputs": [],
   "source": [
    "x, y, z = symbols('x y z')"
   ]
  },
  {
   "cell_type": "code",
   "execution_count": 5,
   "metadata": {},
   "outputs": [],
   "source": [
    "init_printing(use_unicode=True)"
   ]
  },
  {
   "cell_type": "code",
   "execution_count": 6,
   "metadata": {},
   "outputs": [],
   "source": [
    "expr = (x-1) / (x**2 + 2)"
   ]
  },
  {
   "cell_type": "code",
   "execution_count": 10,
   "metadata": {},
   "outputs": [
    {
     "data": {
      "image/png": "[encoded data removed]",
      "text/latex": [
       "$\\displaystyle \\frac{d}{d x} \\frac{x - 1}{x^{2} + 2}$"
      ],
      "text/plain": [
       "d ⎛x - 1 ⎞\n",
       "──⎜──────⎟\n",
       "dx⎜ 2    ⎟\n",
       "  ⎝x  + 2⎠"
      ]
     },
     "execution_count": 10,
     "metadata": {},
     "output_type": "execute_result"
    }
   ],
   "source": [
    "deriv = Derivative(expr, x)\n",
    "deriv"
   ]
  },
  {
   "cell_type": "code",
   "execution_count": 34,
   "metadata": {},
   "outputs": [],
   "source": [
    "C, a, P, b, d, c = symbols('C a P b d c')\n"
   ]
  },
  {
   "cell_type": "code",
   "execution_count": 35,
   "metadata": {},
   "outputs": [],
   "source": [
    "expr = a*P + (b / (c+P)) + d\n",
    "deriv = Derivative(expr, P)\n",
    "# deriv.doit()"
   ]
  },
  {
   "cell_type": "code",
   "execution_count": 36,
   "metadata": {},
   "outputs": [],
   "source": [
    "from sympy.solvers import solve"
   ]
  },
  {
   "cell_type": "code",
   "execution_count": 37,
   "metadata": {},
   "outputs": [
    {
     "data": {
      "image/png": "[encoded data removed]",
      "text/latex": [
       "$\\displaystyle \\left[ - c - \\frac{\\sqrt{a b}}{a}, \\  - c + \\frac{\\sqrt{a b}}{a}\\right]$"
      ],
      "text/plain": [
       "⎡       _____         _____⎤\n",
       "⎢     ╲╱ a⋅b        ╲╱ a⋅b ⎥\n",
       "⎢-c - ───────, -c + ───────⎥\n",
       "⎣        a             a   ⎦"
      ]
     },
     "execution_count": 37,
     "metadata": {},
     "output_type": "execute_result"
    }
   ],
   "source": [
    "solve(diff(expr, P), P)"
   ]
  },
  {
   "cell_type": "code",
   "execution_count": 38,
   "metadata": {},
   "outputs": [],
   "source": [
    "N, C_l, t, E, P, C_e, m, n = symbols('N C_l t E P C_e m n')"
   ]
  },
  {
   "cell_type": "code",
   "execution_count": 39,
   "metadata": {},
   "outputs": [],
   "source": [
    "expr = N*(C_l/(m*E**n) + E*P*C_e/1000)"
   ]
  },
  {
   "cell_type": "code",
   "execution_count": 40,
   "metadata": {},
   "outputs": [
    {
     "data": {
      "image/png": "[encoded data removed]",
      "text/latex": [
       "$\\displaystyle N \\left(\\frac{C_{e} P}{1000} - \\frac{C_{l} E^{- n} n}{E m}\\right)$"
      ],
      "text/plain": [
       "  ⎛           -n  ⎞\n",
       "  ⎜Cₑ⋅P   Cₗ⋅E  ⋅n⎟\n",
       "N⋅⎜──── - ────────⎟\n",
       "  ⎝1000     E⋅m   ⎠"
      ]
     },
     "execution_count": 40,
     "metadata": {},
     "output_type": "execute_result"
    }
   ],
   "source": [
    "diff(expr, E)"
   ]
  },
  {
   "cell_type": "code",
   "execution_count": 41,
   "metadata": {},
   "outputs": [
    {
     "data": {
      "image/png": "[encoded data removed]",
      "text/latex": [
       "$\\displaystyle \\left[ \\left(\\frac{1000 C_{l} n}{C_{e} P m}\\right)^{\\frac{1}{n + 1}}\\right]$"
      ],
      "text/plain": [
       "⎡             1  ⎤\n",
       "⎢           ─────⎥\n",
       "⎢           n + 1⎥\n",
       "⎢⎛1000⋅Cₗ⋅n⎞     ⎥\n",
       "⎢⎜─────────⎟     ⎥\n",
       "⎣⎝  Cₑ⋅P⋅m ⎠     ⎦"
      ]
     },
     "execution_count": 41,
     "metadata": {},
     "output_type": "execute_result"
    }
   ],
   "source": [
    "solve(diff(expr, E), E)"
   ]
  },
  {
   "cell_type": "code",
   "execution_count": 70,
   "metadata": {},
   "outputs": [],
   "source": [
    "x = symbols('x', real=True)"
   ]
  },
  {
   "cell_type": "code",
   "execution_count": 71,
   "metadata": {},
   "outputs": [],
   "source": [
    "expr = (3*x / (x**2 - 3)) + (x/2) + 5"
   ]
  },
  {
   "cell_type": "code",
   "execution_count": 72,
   "metadata": {},
   "outputs": [
    {
     "data": {
      "image/png": "[encoded data removed]",
      "text/latex": [
       "$\\displaystyle \\frac{d}{d x} \\left(\\frac{x}{2} + \\frac{3 x}{x^{2} - 3} + 5\\right)$"
      ],
      "text/plain": [
       "d ⎛x    3⋅x      ⎞\n",
       "──⎜─ + ────── + 5⎟\n",
       "dx⎜2    2        ⎟\n",
       "  ⎝    x  - 3    ⎠"
      ]
     },
     "execution_count": 72,
     "metadata": {},
     "output_type": "execute_result"
    }
   ],
   "source": [
    "deriv = Derivative(expr, x)\n",
    "deriv"
   ]
  },
  {
   "cell_type": "code",
   "execution_count": 73,
   "metadata": {},
   "outputs": [
    {
     "data": {
      "image/png": "[encoded data removed]",
      "text/latex": [
       "$\\displaystyle - \\frac{6 x^{2}}{\\left(x^{2} - 3\\right)^{2}} + \\frac{1}{2} + \\frac{3}{x^{2} - 3}$"
      ],
      "text/plain": [
       "        2               \n",
       "     6⋅x      1     3   \n",
       "- ───────── + ─ + ──────\n",
       "          2   2    2    \n",
       "  ⎛ 2    ⎞        x  - 3\n",
       "  ⎝x  - 3⎠              "
      ]
     },
     "execution_count": 73,
     "metadata": {},
     "output_type": "execute_result"
    }
   ],
   "source": [
    "diff(expr, x)"
   ]
  },
  {
   "cell_type": "code",
   "execution_count": 100,
   "metadata": {},
   "outputs": [
    {
     "data": {
      "image/png": "[encoded data removed]",
      "text/latex": [
       "$\\displaystyle \\left[ - \\sqrt{6 + 3 \\sqrt{5}}, \\  \\sqrt{6 + 3 \\sqrt{5}}\\right]$"
      ],
      "text/plain": [
       "⎡   __________    __________⎤\n",
       "⎣-╲╱ 6 + 3⋅√5 , ╲╱ 6 + 3⋅√5 ⎦"
      ]
     },
     "execution_count": 100,
     "metadata": {},
     "output_type": "execute_result"
    }
   ],
   "source": [
    "res = solve(diff(expr, x), x, dict=False)\n",
    "res"
   ]
  },
  {
   "cell_type": "code",
   "execution_count": 102,
   "metadata": {},
   "outputs": [
    {
     "data": {
      "image/png": "[encoded data removed]",
      "text/latex": [
       "$\\displaystyle -3.56485678990045$"
      ],
      "text/plain": [
       "-3.56485678990045"
      ]
     },
     "execution_count": 102,
     "metadata": {},
     "output_type": "execute_result"
    }
   ],
   "source": [
    "res[0].evalf()"
   ]
  },
  {
   "cell_type": "code",
   "execution_count": null,
   "metadata": {},
   "outputs": [],
   "source": []
  },
  {
   "cell_type": "code",
   "execution_count": 131,
   "metadata": {},
   "outputs": [
    {
     "data": {
      "image/png": "[encoded data removed]",
      "text/latex": [
       "$\\displaystyle \\left[ - \\frac{1}{3}, \\  \\frac{1}{2}\\right]$"
      ],
      "text/plain": [
       "[-1/3, 1/2]"
      ]
     },
     "execution_count": 131,
     "metadata": {},
     "output_type": "execute_result"
    }
   ],
   "source": [
    "x = symbols('x', real=True)\n",
    "expr = 4*x**3 - x**2 - 2*x + 1\n",
    "res = solve(diff(expr, x), x)\n",
    "res"
   ]
  },
  {
   "cell_type": "code",
   "execution_count": 124,
   "metadata": {},
   "outputs": [
    {
     "data": {
      "image/png": "[encoded data removed]",
      "text/latex": [
       "$\\displaystyle \\frac{3 x^{2} - 2 x \\left(3 x + 1\\right) - 3}{\\left(x^{2} - 1\\right)^{2}}$"
      ],
      "text/plain": [
       "   2                    \n",
       "3⋅x  - 2⋅x⋅(3⋅x + 1) - 3\n",
       "────────────────────────\n",
       "               2        \n",
       "       ⎛ 2    ⎞         \n",
       "       ⎝x  - 1⎠         "
      ]
     },
     "execution_count": 124,
     "metadata": {},
     "output_type": "execute_result"
    }
   ],
   "source": [
    "expr = (3*x + 1) / (x**2 - 1)\n",
    "simplify(diff(expr, x))"
   ]
  },
  {
   "cell_type": "code",
   "execution_count": 121,
   "metadata": {},
   "outputs": [
    {
     "data": {
      "image/png": "[encoded data removed]",
      "text/latex": [
       "$\\displaystyle \\frac{3 x + 1}{\\left(x - 1\\right) \\left(x + 1\\right)}$"
      ],
      "text/plain": [
       "    3⋅x + 1    \n",
       "───────────────\n",
       "(x - 1)⋅(x + 1)"
      ]
     },
     "execution_count": 121,
     "metadata": {},
     "output_type": "execute_result"
    }
   ],
   "source": [
    "factor(expr)"
   ]
  },
  {
   "cell_type": "code",
   "execution_count": 143,
   "metadata": {},
   "outputs": [],
   "source": [
    "expr = (-x**2 - 3) / ((x**2 + 1)*(x +1 ))\n",
    "res = solve(diff(expr))"
   ]
  },
  {
   "cell_type": "code",
   "execution_count": 157,
   "metadata": {},
   "outputs": [
    {
     "data": {
      "image/png": "[encoded data removed]",
      "text/latex": [
       "$\\displaystyle \\frac{x - 1}{x^{2} + 1} - \\frac{2}{x + 1}$"
      ],
      "text/plain": [
       "x - 1      2  \n",
       "────── - ─────\n",
       " 2       x + 1\n",
       "x  + 1        "
      ]
     },
     "execution_count": 157,
     "metadata": {},
     "output_type": "execute_result"
    }
   ],
   "source": [
    "apart(expr)"
   ]
  },
  {
   "cell_type": "code",
   "execution_count": 147,
   "metadata": {},
   "outputs": [
    {
     "data": {
      "image/png": "[encoded data removed]",
      "text/latex": [
       "$\\displaystyle \\left[ -0.265834643768795 + 0.555815720863187 i, \\  0.265834643768795 + 2.79864342139128 i, \\  0.265834643768795 - 2.79864342139128 i, \\  -0.265834643768795 - 0.555815720863187 i\\right]$"
      ],
      "text/plain": [
       "[-0.265834643768795 + 0.555815720863187⋅ⅈ, 0.265834643768795 + 2.7986434213912\n",
       "8⋅ⅈ, 0.265834643768795 - 2.79864342139128⋅ⅈ, -0.265834643768795 - 0.5558157208\n",
       "63187⋅ⅈ]"
      ]
     },
     "execution_count": 147,
     "metadata": {},
     "output_type": "execute_result"
    }
   ],
   "source": [
    "res2 = [value.evalf() for value in res]\n"
   ]
  },
  {
   "cell_type": "code",
   "execution_count": 148,
   "metadata": {},
   "outputs": [
    {
     "data": {
      "image/png": "[encoded data removed]",
      "text/latex": [
       "$\\displaystyle 4$"
      ],
      "text/plain": [
       "4"
      ]
     },
     "execution_count": 148,
     "metadata": {},
     "output_type": "execute_result"
    }
   ],
   "source": [
    "len(res2)"
   ]
  },
  {
   "cell_type": "code",
   "execution_count": null,
   "metadata": {},
   "outputs": [],
   "source": []
  },
  {
   "cell_type": "code",
   "execution_count": null,
   "metadata": {},
   "outputs": [],
   "source": []
  }
 ],
 "metadata": {
  "kernelspec": {
   "display_name": "Python 3",
   "language": "python",
   "name": "python3"
  },
  "language_info": {
   "codemirror_mode": {
    "name": "ipython",
    "version": 3
   },
   "file_extension": ".py",
   "mimetype": "text/x-python",
   "name": "python",
   "nbconvert_exporter": "python",
   "pygments_lexer": "ipython3",
   "version": "3.7.3"
  }
 },
 "nbformat": 4,
 "nbformat_minor": 2
}
